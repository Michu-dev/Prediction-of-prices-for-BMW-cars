{
 "cells": [
  {
   "cell_type": "markdown",
   "id": "baa51d01",
   "metadata": {},
   "source": [
    "                                     Michał Ciesielski\n",
    "__Table of contents:__\n",
    "\n",
    "- [Project Motivation](#project-motivation)\n",
    "\n",
    "- [The dataset](#the-dataset)\n",
    "\n",
    "- [Analysis Plan](#analysis-plan)\n",
    "\n",
    "- [Performance Metrics](#performance-metrics)\n",
    "\n",
    "- [Exploratory Data Analysis](#exploratory-data-analysis)\n",
    "\n",
    "- [Exploratory Data Analysis Summary](#exploratory-data-analysis-summary)\n",
    "\n",
    "- [Model development](#model-development)\n",
    "\n",
    "- [Conclusion and recommendations](#conclusion-and-recommendations)\n",
    "\n",
    "- [References](#References)\n",
    "\n",
    "# Project Motivation <a class=\"anchor\" id=\"project-motivation\"></a>\n",
    "A Polish dealer of BMW cars wants to know how much should be the price of cars company in his car dealership XYZ. Specifically, he wants to understand the factors affecting the pricing of cars in the American market, since those may be very different from the Polish market. The principal wants to know:\n",
    "\n",
    "- Which variables are significant in predicting the price of a car\n",
    "- How well those variables describe the price of a car\n",
    "\n",
    "The main goal of my project is to find some factors which impact on price of cars in general. Most of the people is buying used cars nowadays. The people want to buy the cheapest car with the highest possible quality. How does it accord to several years old BMW models? I will try to find a proper way to solve this problem based on that car company. "
   ]
  },
  {
   "cell_type": "markdown",
   "id": "b717b68d",
   "metadata": {},
   "source": [
    "Many people are interested in a few years old cars because they're not too expensive and there is some information from previous owners about the car. However, I have only general specification of cars, like mileage, size of engine or type of fuel. The information about potentially damage of a car doesn't exist. But assuming that the cars are only a few years old, I will try to build a solid predictive model of the price of usage BMW car, trained on features available in the given dataset."
   ]
  },
  {
   "cell_type": "markdown",
   "id": "bd53f089",
   "metadata": {},
   "source": [
    "# The dataset <a class=\"anchor\" id=\"the-dataset\"></a>\n",
    "The data used in this project can be obtained from the site: https://github.com/datacamp/careerhubdata/tree/master/BMW%20Used%20Car%20Sales. The file contains information for price, transmission, mileage, fuel type, road tax, miles per gallon (mpg) and engine size of some BMW cars, probably available in a web service."
   ]
  },
  {
   "cell_type": "markdown",
   "id": "76062e03",
   "metadata": {},
   "source": [
    "## Data description\n",
    "The data consists of 8 input variables and a numerical target variable (price of a car) with wide range of possible values."
   ]
  },
  {
   "cell_type": "markdown",
   "id": "12b36d63",
   "metadata": {},
   "source": [
    "### Attribute Information - features\n",
    "|| Description | Type|\n",
    "|--------|--------------------|---------|\n",
    "|M| model | categorical |\n",
    "|Y| year of production   | categorical |\n",
    "|T|car transmission |categorical|\n",
    "|MA|mileage| numerical|\n",
    "|F|type of fuel | categorical|\n",
    "|P|vehicle tax |numerical|\n",
    "|MPG|usage of fuel | numerical|\n",
    "|EE|size of an engine | numerical|"
   ]
  },
  {
   "cell_type": "markdown",
   "id": "7e29a8c9",
   "metadata": {},
   "source": [
    "### Attribute Information - Target\n",
    "| Description | Type|\n",
    "|--------------------|---------|\n",
    "| price of a car | numerical |"
   ]
  },
  {
   "cell_type": "markdown",
   "id": "be394abb",
   "metadata": {},
   "source": [
    "# Analysis Plan <a class=\"anchor\" id=\"analysis-plan\"></a>\n",
    "This is a supervised, multiple linear regression problem. This is not a classification problem because the dependent variable is numerical. Multiple variables can be part of a model which fits the given data the best."
   ]
  },
  {
   "cell_type": "markdown",
   "id": "07f2d265",
   "metadata": {},
   "source": [
    "The following steps will be followed:"
   ]
  },
  {
   "cell_type": "markdown",
   "id": "8ec5c3c8",
   "metadata": {},
   "source": [
    "Identify suitable performance metrics based on what is known about the problem at this stage."
   ]
  },
  {
   "cell_type": "markdown",
   "id": "9eaf4004",
   "metadata": {},
   "source": [
    "Exploratory data analysis to identify data problems and discover any initial insights."
   ]
  },
  {
   "cell_type": "markdown",
   "id": "d480010b",
   "metadata": {},
   "source": [
    "Select a suitable algorithm based on the information gained during exploratory analysis."
   ]
  },
  {
   "cell_type": "markdown",
   "id": "b5778287",
   "metadata": {},
   "source": [
    "Fit, fine tune, evaluate and validate a model."
   ]
  },
  {
   "cell_type": "markdown",
   "id": "ddbd7328",
   "metadata": {},
   "source": [
    "Discuss the merits of and improvements of the model"
   ]
  },
  {
   "cell_type": "markdown",
   "id": "087cc776",
   "metadata": {},
   "source": [
    "# Performance Metrics <a class=\"anchor\" id=\"performance-metrics\"></a>\n",
    "The information included in the description of the dataset does not give any specifics regarding the evaluation of the predictive model’s performance."
   ]
  },
  {
   "cell_type": "markdown",
   "id": "6c8388a1",
   "metadata": {},
   "source": [
    "A final decision will be made following an initial exploration of the data to decide which performance metrics are suitable."
   ]
  },
  {
   "cell_type": "markdown",
   "id": "ddfe7ec7",
   "metadata": {},
   "source": [
    "__R-squared and adjusted R-squared__"
   ]
  },
  {
   "cell_type": "markdown",
   "id": "5454c7a2",
   "metadata": {},
   "source": [
    "R-squared is a statistical measure that represents the proportion of the variance for a dependent variable that's explained by an independent variable or variables in a regression model. I will check the value and try to find a model with the biggest value of variance explained. "
   ]
  },
  {
   "cell_type": "markdown",
   "id": "d1ace706",
   "metadata": {},
   "source": [
    "__F-stats and Prob(F-stats) (overall model fit)__"
   ]
  },
  {
   "cell_type": "markdown",
   "id": "76394e49",
   "metadata": {},
   "source": [
    "The p-value of the F-test which is the test of significance for entire model. Null hypothesis assumes that all the coefficients of independent variables are equal to zero. With the big value of F-stat and small value of p-value I can reject the null hypothesis and assume that new model is statistically significant."
   ]
  },
  {
   "cell_type": "markdown",
   "id": "989ee183",
   "metadata": {},
   "source": [
    "__P-values of T-test__"
   ]
  },
  {
   "cell_type": "markdown",
   "id": "bae15f23",
   "metadata": {},
   "source": [
    "P-values for all the coefficients have to to be less than the significance level of 0.05 - meaning that all the predictors are statistically significant."
   ]
  },
  {
   "cell_type": "markdown",
   "id": "bb77a903",
   "metadata": {},
   "source": [
    "__Variance Inflation Factor (VIF)__"
   ]
  },
  {
   "cell_type": "markdown",
   "id": "249de7db",
   "metadata": {},
   "source": [
    "Measure of the amount of multicollinearity in a set of multiple regression variables. Mathematically, the VIF for a regression model variable is equal to the ratio of the overall model variance to the variance of a model that includes only that single independent variable. A large variance inflation factor (VIF) on an independent variable indicates a highly collinear relationship to the other variables that should be considered or adjusted for in the structure of the model and selection of independent variables."
   ]
  },
  {
   "cell_type": "markdown",
   "id": "03fd4b4b",
   "metadata": {},
   "source": [
    "# Exploratory Data Analysis <a class=\"anchor\" id=\"exploratory-data-analysis\"></a>\n",
    "In this section, an initial exploratory analysis of the dataset will be done. The dataset will be\n",
    "evaluated for any data quality problems that have to be resolved."
   ]
  },
  {
   "cell_type": "code",
   "execution_count": null,
   "id": "63065d9b",
   "metadata": {},
   "outputs": [],
   "source": [
    "# Import modules needed exploratory analysis\n",
    "library(tidyverse)\n",
    "library(gridExtra)\n",
    "library(ggplot2)"
   ]
  },
  {
   "cell_type": "code",
   "execution_count": 9,
   "id": "1e17b26c",
   "metadata": {
    "scrolled": false
   },
   "outputs": [
    {
     "name": "stdout",
     "output_type": "stream",
     "text": [
      "'data.frame':\t10781 obs. of  9 variables:\n",
      " $ model       : Factor w/ 24 levels \" 1 Series\",\" 2 Series\",..: 5 6 5 1 7 5 5 2 4 5 ...\n",
      " $ year        : int  2014 2018 2016 2017 2014 2016 2017 2018 2017 2016 ...\n",
      " $ price       : int  11200 27000 16000 12750 14500 14900 16000 16250 14250 14250 ...\n",
      " $ transmission: Factor w/ 3 levels \"Automatic\",\"Manual\",..: 1 1 1 1 1 1 1 2 2 1 ...\n",
      " $ mileage     : int  67068 14827 62794 26676 39554 35309 38538 10401 42668 36099 ...\n",
      " $ fuelType    : Factor w/ 5 levels \"Diesel\",\"Electric\",..: 1 5 1 1 1 1 1 5 1 1 ...\n",
      " $ tax         : int  125 145 160 145 160 125 125 145 30 20 ...\n",
      " $ mpg         : num  57.6 42.8 51.4 72.4 50.4 60.1 60.1 52.3 62.8 68.9 ...\n",
      " $ engineSize  : num  2 2 3 1.5 3 2 2 1.5 2 2 ...\n"
     ]
    },
    {
     "data": {
      "text/html": [
       "<table>\n",
       "<thead><tr><th scope=col>model</th><th scope=col>year</th><th scope=col>price</th><th scope=col>transmission</th><th scope=col>mileage</th><th scope=col>fuelType</th><th scope=col>tax</th><th scope=col>mpg</th><th scope=col>engineSize</th></tr></thead>\n",
       "<tbody>\n",
       "\t<tr><td> 5 Series</td><td>2014     </td><td>11200    </td><td>Automatic</td><td>67068    </td><td>Diesel   </td><td>125      </td><td> 57.6    </td><td>2.0      </td></tr>\n",
       "\t<tr><td> 6 Series</td><td>2018     </td><td>27000    </td><td>Automatic</td><td>14827    </td><td>Petrol   </td><td>145      </td><td> 42.8    </td><td>2.0      </td></tr>\n",
       "\t<tr><td> 5 Series</td><td>2016     </td><td>16000    </td><td>Automatic</td><td>62794    </td><td>Diesel   </td><td>160      </td><td> 51.4    </td><td>3.0      </td></tr>\n",
       "\t<tr><td> 1 Series</td><td>2017     </td><td>12750    </td><td>Automatic</td><td>26676    </td><td>Diesel   </td><td>145      </td><td> 72.4    </td><td>1.5      </td></tr>\n",
       "\t<tr><td> 7 Series</td><td>2014     </td><td>14500    </td><td>Automatic</td><td>39554    </td><td>Diesel   </td><td>160      </td><td> 50.4    </td><td>3.0      </td></tr>\n",
       "\t<tr><td> 5 Series</td><td>2016     </td><td>14900    </td><td>Automatic</td><td>35309    </td><td>Diesel   </td><td>125      </td><td> 60.1    </td><td>2.0      </td></tr>\n",
       "\t<tr><td> 5 Series</td><td>2017     </td><td>16000    </td><td>Automatic</td><td>38538    </td><td>Diesel   </td><td>125      </td><td> 60.1    </td><td>2.0      </td></tr>\n",
       "\t<tr><td> 2 Series</td><td>2018     </td><td>16250    </td><td>Manual   </td><td>10401    </td><td>Petrol   </td><td>145      </td><td> 52.3    </td><td>1.5      </td></tr>\n",
       "\t<tr><td> 4 Series</td><td>2017     </td><td>14250    </td><td>Manual   </td><td>42668    </td><td>Diesel   </td><td> 30      </td><td> 62.8    </td><td>2.0      </td></tr>\n",
       "\t<tr><td> 5 Series</td><td>2016     </td><td>14250    </td><td>Automatic</td><td>36099    </td><td>Diesel   </td><td> 20      </td><td> 68.9    </td><td>2.0      </td></tr>\n",
       "\t<tr><td> X3      </td><td>2017     </td><td>15500    </td><td>Manual   </td><td>74907    </td><td>Diesel   </td><td>145      </td><td> 52.3    </td><td>2.0      </td></tr>\n",
       "\t<tr><td> 1 Series</td><td>2017     </td><td>11800    </td><td>Manual   </td><td>29840    </td><td>Diesel   </td><td> 20      </td><td> 68.9    </td><td>2.0      </td></tr>\n",
       "\t<tr><td> X3      </td><td>2016     </td><td>15500    </td><td>Automatic</td><td>77823    </td><td>Diesel   </td><td>125      </td><td> 54.3    </td><td>2.0      </td></tr>\n",
       "\t<tr><td> 2 Series</td><td>2015     </td><td>10500    </td><td>Manual   </td><td>31469    </td><td>Diesel   </td><td> 20      </td><td> 68.9    </td><td>2.0      </td></tr>\n",
       "\t<tr><td> X3      </td><td>2017     </td><td>22000    </td><td>Automatic</td><td>19057    </td><td>Diesel   </td><td>145      </td><td> 54.3    </td><td>2.0      </td></tr>\n",
       "\t<tr><td> 3 Series</td><td>2017     </td><td>16500    </td><td>Manual   </td><td>16570    </td><td>Diesel   </td><td>125      </td><td> 58.9    </td><td>2.0      </td></tr>\n",
       "\t<tr><td> 3 Series</td><td>2017     </td><td>14250    </td><td>Automatic</td><td>55594    </td><td>Other    </td><td>135      </td><td>148.7    </td><td>2.0      </td></tr>\n",
       "\t<tr><td> 3 Series</td><td>2017     </td><td>16000    </td><td>Automatic</td><td>45456    </td><td>Diesel   </td><td> 30      </td><td> 64.2    </td><td>2.0      </td></tr>\n",
       "\t<tr><td> 1 Series</td><td>2017     </td><td>15500    </td><td>Automatic</td><td>22812    </td><td>Diesel   </td><td> 20      </td><td> 68.9    </td><td>1.5      </td></tr>\n",
       "\t<tr><td> 4 Series</td><td>2014     </td><td>14000    </td><td>Automatic</td><td>47348    </td><td>Diesel   </td><td>125      </td><td> 60.1    </td><td>2.0      </td></tr>\n",
       "\t<tr><td> 1 Series</td><td>2015     </td><td> 9700    </td><td>Automatic</td><td>75124    </td><td>Diesel   </td><td> 20      </td><td> 70.6    </td><td>2.0      </td></tr>\n",
       "\t<tr><td> 3 Series</td><td>2015     </td><td>12600    </td><td>Automatic</td><td>78957    </td><td>Diesel   </td><td> 30      </td><td> 62.8    </td><td>2.0      </td></tr>\n",
       "\t<tr><td> 3 Series</td><td>2016     </td><td>15100    </td><td>Automatic</td><td>29213    </td><td>Diesel   </td><td> 30      </td><td> 64.2    </td><td>2.0      </td></tr>\n",
       "\t<tr><td> 1 Series</td><td>2016     </td><td> 9400    </td><td>Manual   </td><td>44498    </td><td>Diesel   </td><td>  0      </td><td> 83.1    </td><td>1.5      </td></tr>\n",
       "\t<tr><td> 1 Series</td><td>2016     </td><td>14300    </td><td>Automatic</td><td>22461    </td><td>Diesel   </td><td> 20      </td><td> 67.3    </td><td>2.0      </td></tr>\n",
       "\t<tr><td> 1 Series</td><td>2016     </td><td>11200    </td><td>Manual   </td><td>23005    </td><td>Petrol   </td><td>125      </td><td> 53.3    </td><td>1.5      </td></tr>\n",
       "\t<tr><td> 3 Series</td><td>2019     </td><td>17800    </td><td>Automatic</td><td>22310    </td><td>Diesel   </td><td>145      </td><td> 64.2    </td><td>2.0      </td></tr>\n",
       "\t<tr><td> 3 Series</td><td>2016     </td><td>14400    </td><td>Automatic</td><td>51994    </td><td>Diesel   </td><td> 30      </td><td> 62.8    </td><td>2.0      </td></tr>\n",
       "\t<tr><td> X5      </td><td>2016     </td><td>19750    </td><td>Automatic</td><td>96213    </td><td>Diesel   </td><td>165      </td><td> 52.3    </td><td>2.0      </td></tr>\n",
       "\t<tr><td> X3      </td><td>2015     </td><td>17400    </td><td>Automatic</td><td>50316    </td><td>Diesel   </td><td>200      </td><td> 47.9    </td><td>3.0      </td></tr>\n",
       "\t<tr><td>...</td><td>...</td><td>...</td><td>...</td><td>...</td><td>...</td><td>...</td><td>...</td><td>...</td></tr>\n",
       "\t<tr><td> 3 Series</td><td>2013     </td><td>10295    </td><td>Automatic</td><td> 31850   </td><td>Petrol   </td><td>145      </td><td> 47.9    </td><td>1.6      </td></tr>\n",
       "\t<tr><td> 3 Series</td><td>2010     </td><td> 7995    </td><td>Automatic</td><td> 41500   </td><td>Petrol   </td><td>200      </td><td> 41.5    </td><td>2.0      </td></tr>\n",
       "\t<tr><td> X1      </td><td>2011     </td><td> 7295    </td><td>Manual   </td><td> 70760   </td><td>Diesel   </td><td>160      </td><td> 49.6    </td><td>2.0      </td></tr>\n",
       "\t<tr><td> 3 Series</td><td>2013     </td><td>14950    </td><td>Automatic</td><td> 66500   </td><td>Diesel   </td><td>160      </td><td> 52.3    </td><td>3.0      </td></tr>\n",
       "\t<tr><td> 2 Series</td><td>2019     </td><td>18887    </td><td>Automatic</td><td> 13955   </td><td>Petrol   </td><td>145      </td><td> 50.4    </td><td>1.5      </td></tr>\n",
       "\t<tr><td> 3 Series</td><td>2005     </td><td> 5678    </td><td>Automatic</td><td> 63000   </td><td>Diesel   </td><td>260      </td><td> 42.2    </td><td>2.0      </td></tr>\n",
       "\t<tr><td> 3 Series</td><td>2012     </td><td> 9999    </td><td>Automatic</td><td> 52000   </td><td>Diesel   </td><td>160      </td><td> 50.4    </td><td>2.0      </td></tr>\n",
       "\t<tr><td> X3      </td><td>2014     </td><td>14400    </td><td>Automatic</td><td> 43307   </td><td>Diesel   </td><td>145      </td><td> 54.3    </td><td>2.0      </td></tr>\n",
       "\t<tr><td> 1 Series</td><td>2016     </td><td>11200    </td><td>Manual   </td><td> 54008   </td><td>Diesel   </td><td> 30      </td><td> 62.8    </td><td>2.0      </td></tr>\n",
       "\t<tr><td> 1 Series</td><td>2016     </td><td> 9600    </td><td>Manual   </td><td> 65435   </td><td>Diesel   </td><td> 30      </td><td> 65.7    </td><td>2.0      </td></tr>\n",
       "\t<tr><td> X1      </td><td>2016     </td><td>17200    </td><td>Automatic</td><td> 34769   </td><td>Diesel   </td><td>125      </td><td> 57.6    </td><td>2.0      </td></tr>\n",
       "\t<tr><td> 1 Series</td><td>2016     </td><td> 9100    </td><td>Manual   </td><td> 53177   </td><td>Diesel   </td><td>  0      </td><td> 78.5    </td><td>1.5      </td></tr>\n",
       "\t<tr><td> 1 Series</td><td>2016     </td><td> 8500    </td><td>Manual   </td><td> 68810   </td><td>Diesel   </td><td>  0      </td><td> 83.1    </td><td>1.5      </td></tr>\n",
       "\t<tr><td> 1 Series</td><td>2016     </td><td> 9100    </td><td>Manual   </td><td> 54596   </td><td>Diesel   </td><td>  0      </td><td> 83.1    </td><td>1.5      </td></tr>\n",
       "\t<tr><td> 3 Series</td><td>2016     </td><td>17700    </td><td>Automatic</td><td> 20670   </td><td>Other    </td><td>  0      </td><td>134.5    </td><td>2.0      </td></tr>\n",
       "\t<tr><td> 1 Series</td><td>2016     </td><td> 8700    </td><td>Manual   </td><td> 54987   </td><td>Diesel   </td><td>  0      </td><td> 83.1    </td><td>1.5      </td></tr>\n",
       "\t<tr><td> 3 Series</td><td>2016     </td><td>13000    </td><td>Manual   </td><td> 58727   </td><td>Diesel   </td><td>125      </td><td> 60.1    </td><td>2.0      </td></tr>\n",
       "\t<tr><td> X1      </td><td>2016     </td><td>13700    </td><td>Manual   </td><td> 26018   </td><td>Diesel   </td><td> 20      </td><td> 68.9    </td><td>2.0      </td></tr>\n",
       "\t<tr><td> 3 Series</td><td>2015     </td><td>12300    </td><td>Manual   </td><td> 39347   </td><td>Diesel   </td><td>125      </td><td> 60.1    </td><td>2.0      </td></tr>\n",
       "\t<tr><td> 7 Series</td><td>2008     </td><td> 6480    </td><td>Automatic</td><td> 70500   </td><td>Diesel   </td><td>325      </td><td> 35.3    </td><td>3.0      </td></tr>\n",
       "\t<tr><td> 5 Series</td><td>2015     </td><td>11700    </td><td>Automatic</td><td>106000   </td><td>Diesel   </td><td>160      </td><td> 51.4    </td><td>2.0      </td></tr>\n",
       "\t<tr><td> 1 Series</td><td>2017     </td><td>10200    </td><td>Manual   </td><td> 41435   </td><td>Diesel   </td><td>  0      </td><td> 83.1    </td><td>1.5      </td></tr>\n",
       "\t<tr><td> X1      </td><td>2017     </td><td>15900    </td><td>Automatic</td><td> 60372   </td><td>Diesel   </td><td>125      </td><td> 57.6    </td><td>2.0      </td></tr>\n",
       "\t<tr><td> 5 Series</td><td>2016     </td><td>14300    </td><td>Automatic</td><td> 67530   </td><td>Diesel   </td><td> 30      </td><td> 62.8    </td><td>2.0      </td></tr>\n",
       "\t<tr><td> X4      </td><td>2015     </td><td>20000    </td><td>Automatic</td><td> 44147   </td><td>Diesel   </td><td>200      </td><td> 47.9    </td><td>3.0      </td></tr>\n",
       "\t<tr><td> X3      </td><td>2016     </td><td>19000    </td><td>Automatic</td><td> 40818   </td><td>Diesel   </td><td>150      </td><td> 54.3    </td><td>2.0      </td></tr>\n",
       "\t<tr><td> 5 Series</td><td>2016     </td><td>14600    </td><td>Automatic</td><td> 42947   </td><td>Diesel   </td><td>125      </td><td> 60.1    </td><td>2.0      </td></tr>\n",
       "\t<tr><td> 3 Series</td><td>2017     </td><td>13100    </td><td>Manual   </td><td> 25468   </td><td>Petrol   </td><td>200      </td><td> 42.8    </td><td>2.0      </td></tr>\n",
       "\t<tr><td> 1 Series</td><td>2014     </td><td> 9930    </td><td>Automatic</td><td> 45000   </td><td>Diesel   </td><td> 30      </td><td> 64.2    </td><td>2.0      </td></tr>\n",
       "\t<tr><td> X1      </td><td>2017     </td><td>15981    </td><td>Automatic</td><td> 59432   </td><td>Diesel   </td><td>125      </td><td> 57.6    </td><td>2.0      </td></tr>\n",
       "</tbody>\n",
       "</table>\n"
      ],
      "text/latex": [
       "\\begin{tabular}{r|lllllllll}\n",
       " model & year & price & transmission & mileage & fuelType & tax & mpg & engineSize\\\\\n",
       "\\hline\n",
       "\t  5 Series & 2014      & 11200     & Automatic & 67068     & Diesel    & 125       &  57.6     & 2.0      \\\\\n",
       "\t  6 Series & 2018      & 27000     & Automatic & 14827     & Petrol    & 145       &  42.8     & 2.0      \\\\\n",
       "\t  5 Series & 2016      & 16000     & Automatic & 62794     & Diesel    & 160       &  51.4     & 3.0      \\\\\n",
       "\t  1 Series & 2017      & 12750     & Automatic & 26676     & Diesel    & 145       &  72.4     & 1.5      \\\\\n",
       "\t  7 Series & 2014      & 14500     & Automatic & 39554     & Diesel    & 160       &  50.4     & 3.0      \\\\\n",
       "\t  5 Series & 2016      & 14900     & Automatic & 35309     & Diesel    & 125       &  60.1     & 2.0      \\\\\n",
       "\t  5 Series & 2017      & 16000     & Automatic & 38538     & Diesel    & 125       &  60.1     & 2.0      \\\\\n",
       "\t  2 Series & 2018      & 16250     & Manual    & 10401     & Petrol    & 145       &  52.3     & 1.5      \\\\\n",
       "\t  4 Series & 2017      & 14250     & Manual    & 42668     & Diesel    &  30       &  62.8     & 2.0      \\\\\n",
       "\t  5 Series & 2016      & 14250     & Automatic & 36099     & Diesel    &  20       &  68.9     & 2.0      \\\\\n",
       "\t  X3       & 2017      & 15500     & Manual    & 74907     & Diesel    & 145       &  52.3     & 2.0      \\\\\n",
       "\t  1 Series & 2017      & 11800     & Manual    & 29840     & Diesel    &  20       &  68.9     & 2.0      \\\\\n",
       "\t  X3       & 2016      & 15500     & Automatic & 77823     & Diesel    & 125       &  54.3     & 2.0      \\\\\n",
       "\t  2 Series & 2015      & 10500     & Manual    & 31469     & Diesel    &  20       &  68.9     & 2.0      \\\\\n",
       "\t  X3       & 2017      & 22000     & Automatic & 19057     & Diesel    & 145       &  54.3     & 2.0      \\\\\n",
       "\t  3 Series & 2017      & 16500     & Manual    & 16570     & Diesel    & 125       &  58.9     & 2.0      \\\\\n",
       "\t  3 Series & 2017      & 14250     & Automatic & 55594     & Other     & 135       & 148.7     & 2.0      \\\\\n",
       "\t  3 Series & 2017      & 16000     & Automatic & 45456     & Diesel    &  30       &  64.2     & 2.0      \\\\\n",
       "\t  1 Series & 2017      & 15500     & Automatic & 22812     & Diesel    &  20       &  68.9     & 1.5      \\\\\n",
       "\t  4 Series & 2014      & 14000     & Automatic & 47348     & Diesel    & 125       &  60.1     & 2.0      \\\\\n",
       "\t  1 Series & 2015      &  9700     & Automatic & 75124     & Diesel    &  20       &  70.6     & 2.0      \\\\\n",
       "\t  3 Series & 2015      & 12600     & Automatic & 78957     & Diesel    &  30       &  62.8     & 2.0      \\\\\n",
       "\t  3 Series & 2016      & 15100     & Automatic & 29213     & Diesel    &  30       &  64.2     & 2.0      \\\\\n",
       "\t  1 Series & 2016      &  9400     & Manual    & 44498     & Diesel    &   0       &  83.1     & 1.5      \\\\\n",
       "\t  1 Series & 2016      & 14300     & Automatic & 22461     & Diesel    &  20       &  67.3     & 2.0      \\\\\n",
       "\t  1 Series & 2016      & 11200     & Manual    & 23005     & Petrol    & 125       &  53.3     & 1.5      \\\\\n",
       "\t  3 Series & 2019      & 17800     & Automatic & 22310     & Diesel    & 145       &  64.2     & 2.0      \\\\\n",
       "\t  3 Series & 2016      & 14400     & Automatic & 51994     & Diesel    &  30       &  62.8     & 2.0      \\\\\n",
       "\t  X5       & 2016      & 19750     & Automatic & 96213     & Diesel    & 165       &  52.3     & 2.0      \\\\\n",
       "\t  X3       & 2015      & 17400     & Automatic & 50316     & Diesel    & 200       &  47.9     & 3.0      \\\\\n",
       "\t ... & ... & ... & ... & ... & ... & ... & ... & ...\\\\\n",
       "\t  3 Series & 2013      & 10295     & Automatic &  31850    & Petrol    & 145       &  47.9     & 1.6      \\\\\n",
       "\t  3 Series & 2010      &  7995     & Automatic &  41500    & Petrol    & 200       &  41.5     & 2.0      \\\\\n",
       "\t  X1       & 2011      &  7295     & Manual    &  70760    & Diesel    & 160       &  49.6     & 2.0      \\\\\n",
       "\t  3 Series & 2013      & 14950     & Automatic &  66500    & Diesel    & 160       &  52.3     & 3.0      \\\\\n",
       "\t  2 Series & 2019      & 18887     & Automatic &  13955    & Petrol    & 145       &  50.4     & 1.5      \\\\\n",
       "\t  3 Series & 2005      &  5678     & Automatic &  63000    & Diesel    & 260       &  42.2     & 2.0      \\\\\n",
       "\t  3 Series & 2012      &  9999     & Automatic &  52000    & Diesel    & 160       &  50.4     & 2.0      \\\\\n",
       "\t  X3       & 2014      & 14400     & Automatic &  43307    & Diesel    & 145       &  54.3     & 2.0      \\\\\n",
       "\t  1 Series & 2016      & 11200     & Manual    &  54008    & Diesel    &  30       &  62.8     & 2.0      \\\\\n",
       "\t  1 Series & 2016      &  9600     & Manual    &  65435    & Diesel    &  30       &  65.7     & 2.0      \\\\\n",
       "\t  X1       & 2016      & 17200     & Automatic &  34769    & Diesel    & 125       &  57.6     & 2.0      \\\\\n",
       "\t  1 Series & 2016      &  9100     & Manual    &  53177    & Diesel    &   0       &  78.5     & 1.5      \\\\\n",
       "\t  1 Series & 2016      &  8500     & Manual    &  68810    & Diesel    &   0       &  83.1     & 1.5      \\\\\n",
       "\t  1 Series & 2016      &  9100     & Manual    &  54596    & Diesel    &   0       &  83.1     & 1.5      \\\\\n",
       "\t  3 Series & 2016      & 17700     & Automatic &  20670    & Other     &   0       & 134.5     & 2.0      \\\\\n",
       "\t  1 Series & 2016      &  8700     & Manual    &  54987    & Diesel    &   0       &  83.1     & 1.5      \\\\\n",
       "\t  3 Series & 2016      & 13000     & Manual    &  58727    & Diesel    & 125       &  60.1     & 2.0      \\\\\n",
       "\t  X1       & 2016      & 13700     & Manual    &  26018    & Diesel    &  20       &  68.9     & 2.0      \\\\\n",
       "\t  3 Series & 2015      & 12300     & Manual    &  39347    & Diesel    & 125       &  60.1     & 2.0      \\\\\n",
       "\t  7 Series & 2008      &  6480     & Automatic &  70500    & Diesel    & 325       &  35.3     & 3.0      \\\\\n",
       "\t  5 Series & 2015      & 11700     & Automatic & 106000    & Diesel    & 160       &  51.4     & 2.0      \\\\\n",
       "\t  1 Series & 2017      & 10200     & Manual    &  41435    & Diesel    &   0       &  83.1     & 1.5      \\\\\n",
       "\t  X1       & 2017      & 15900     & Automatic &  60372    & Diesel    & 125       &  57.6     & 2.0      \\\\\n",
       "\t  5 Series & 2016      & 14300     & Automatic &  67530    & Diesel    &  30       &  62.8     & 2.0      \\\\\n",
       "\t  X4       & 2015      & 20000     & Automatic &  44147    & Diesel    & 200       &  47.9     & 3.0      \\\\\n",
       "\t  X3       & 2016      & 19000     & Automatic &  40818    & Diesel    & 150       &  54.3     & 2.0      \\\\\n",
       "\t  5 Series & 2016      & 14600     & Automatic &  42947    & Diesel    & 125       &  60.1     & 2.0      \\\\\n",
       "\t  3 Series & 2017      & 13100     & Manual    &  25468    & Petrol    & 200       &  42.8     & 2.0      \\\\\n",
       "\t  1 Series & 2014      &  9930     & Automatic &  45000    & Diesel    &  30       &  64.2     & 2.0      \\\\\n",
       "\t  X1       & 2017      & 15981     & Automatic &  59432    & Diesel    & 125       &  57.6     & 2.0      \\\\\n",
       "\\end{tabular}\n"
      ],
      "text/markdown": [
       "\n",
       "| model | year | price | transmission | mileage | fuelType | tax | mpg | engineSize |\n",
       "|---|---|---|---|---|---|---|---|---|\n",
       "|  5 Series | 2014      | 11200     | Automatic | 67068     | Diesel    | 125       |  57.6     | 2.0       |\n",
       "|  6 Series | 2018      | 27000     | Automatic | 14827     | Petrol    | 145       |  42.8     | 2.0       |\n",
       "|  5 Series | 2016      | 16000     | Automatic | 62794     | Diesel    | 160       |  51.4     | 3.0       |\n",
       "|  1 Series | 2017      | 12750     | Automatic | 26676     | Diesel    | 145       |  72.4     | 1.5       |\n",
       "|  7 Series | 2014      | 14500     | Automatic | 39554     | Diesel    | 160       |  50.4     | 3.0       |\n",
       "|  5 Series | 2016      | 14900     | Automatic | 35309     | Diesel    | 125       |  60.1     | 2.0       |\n",
       "|  5 Series | 2017      | 16000     | Automatic | 38538     | Diesel    | 125       |  60.1     | 2.0       |\n",
       "|  2 Series | 2018      | 16250     | Manual    | 10401     | Petrol    | 145       |  52.3     | 1.5       |\n",
       "|  4 Series | 2017      | 14250     | Manual    | 42668     | Diesel    |  30       |  62.8     | 2.0       |\n",
       "|  5 Series | 2016      | 14250     | Automatic | 36099     | Diesel    |  20       |  68.9     | 2.0       |\n",
       "|  X3       | 2017      | 15500     | Manual    | 74907     | Diesel    | 145       |  52.3     | 2.0       |\n",
       "|  1 Series | 2017      | 11800     | Manual    | 29840     | Diesel    |  20       |  68.9     | 2.0       |\n",
       "|  X3       | 2016      | 15500     | Automatic | 77823     | Diesel    | 125       |  54.3     | 2.0       |\n",
       "|  2 Series | 2015      | 10500     | Manual    | 31469     | Diesel    |  20       |  68.9     | 2.0       |\n",
       "|  X3       | 2017      | 22000     | Automatic | 19057     | Diesel    | 145       |  54.3     | 2.0       |\n",
       "|  3 Series | 2017      | 16500     | Manual    | 16570     | Diesel    | 125       |  58.9     | 2.0       |\n",
       "|  3 Series | 2017      | 14250     | Automatic | 55594     | Other     | 135       | 148.7     | 2.0       |\n",
       "|  3 Series | 2017      | 16000     | Automatic | 45456     | Diesel    |  30       |  64.2     | 2.0       |\n",
       "|  1 Series | 2017      | 15500     | Automatic | 22812     | Diesel    |  20       |  68.9     | 1.5       |\n",
       "|  4 Series | 2014      | 14000     | Automatic | 47348     | Diesel    | 125       |  60.1     | 2.0       |\n",
       "|  1 Series | 2015      |  9700     | Automatic | 75124     | Diesel    |  20       |  70.6     | 2.0       |\n",
       "|  3 Series | 2015      | 12600     | Automatic | 78957     | Diesel    |  30       |  62.8     | 2.0       |\n",
       "|  3 Series | 2016      | 15100     | Automatic | 29213     | Diesel    |  30       |  64.2     | 2.0       |\n",
       "|  1 Series | 2016      |  9400     | Manual    | 44498     | Diesel    |   0       |  83.1     | 1.5       |\n",
       "|  1 Series | 2016      | 14300     | Automatic | 22461     | Diesel    |  20       |  67.3     | 2.0       |\n",
       "|  1 Series | 2016      | 11200     | Manual    | 23005     | Petrol    | 125       |  53.3     | 1.5       |\n",
       "|  3 Series | 2019      | 17800     | Automatic | 22310     | Diesel    | 145       |  64.2     | 2.0       |\n",
       "|  3 Series | 2016      | 14400     | Automatic | 51994     | Diesel    |  30       |  62.8     | 2.0       |\n",
       "|  X5       | 2016      | 19750     | Automatic | 96213     | Diesel    | 165       |  52.3     | 2.0       |\n",
       "|  X3       | 2015      | 17400     | Automatic | 50316     | Diesel    | 200       |  47.9     | 3.0       |\n",
       "| ... | ... | ... | ... | ... | ... | ... | ... | ... |\n",
       "|  3 Series | 2013      | 10295     | Automatic |  31850    | Petrol    | 145       |  47.9     | 1.6       |\n",
       "|  3 Series | 2010      |  7995     | Automatic |  41500    | Petrol    | 200       |  41.5     | 2.0       |\n",
       "|  X1       | 2011      |  7295     | Manual    |  70760    | Diesel    | 160       |  49.6     | 2.0       |\n",
       "|  3 Series | 2013      | 14950     | Automatic |  66500    | Diesel    | 160       |  52.3     | 3.0       |\n",
       "|  2 Series | 2019      | 18887     | Automatic |  13955    | Petrol    | 145       |  50.4     | 1.5       |\n",
       "|  3 Series | 2005      |  5678     | Automatic |  63000    | Diesel    | 260       |  42.2     | 2.0       |\n",
       "|  3 Series | 2012      |  9999     | Automatic |  52000    | Diesel    | 160       |  50.4     | 2.0       |\n",
       "|  X3       | 2014      | 14400     | Automatic |  43307    | Diesel    | 145       |  54.3     | 2.0       |\n",
       "|  1 Series | 2016      | 11200     | Manual    |  54008    | Diesel    |  30       |  62.8     | 2.0       |\n",
       "|  1 Series | 2016      |  9600     | Manual    |  65435    | Diesel    |  30       |  65.7     | 2.0       |\n",
       "|  X1       | 2016      | 17200     | Automatic |  34769    | Diesel    | 125       |  57.6     | 2.0       |\n",
       "|  1 Series | 2016      |  9100     | Manual    |  53177    | Diesel    |   0       |  78.5     | 1.5       |\n",
       "|  1 Series | 2016      |  8500     | Manual    |  68810    | Diesel    |   0       |  83.1     | 1.5       |\n",
       "|  1 Series | 2016      |  9100     | Manual    |  54596    | Diesel    |   0       |  83.1     | 1.5       |\n",
       "|  3 Series | 2016      | 17700     | Automatic |  20670    | Other     |   0       | 134.5     | 2.0       |\n",
       "|  1 Series | 2016      |  8700     | Manual    |  54987    | Diesel    |   0       |  83.1     | 1.5       |\n",
       "|  3 Series | 2016      | 13000     | Manual    |  58727    | Diesel    | 125       |  60.1     | 2.0       |\n",
       "|  X1       | 2016      | 13700     | Manual    |  26018    | Diesel    |  20       |  68.9     | 2.0       |\n",
       "|  3 Series | 2015      | 12300     | Manual    |  39347    | Diesel    | 125       |  60.1     | 2.0       |\n",
       "|  7 Series | 2008      |  6480     | Automatic |  70500    | Diesel    | 325       |  35.3     | 3.0       |\n",
       "|  5 Series | 2015      | 11700     | Automatic | 106000    | Diesel    | 160       |  51.4     | 2.0       |\n",
       "|  1 Series | 2017      | 10200     | Manual    |  41435    | Diesel    |   0       |  83.1     | 1.5       |\n",
       "|  X1       | 2017      | 15900     | Automatic |  60372    | Diesel    | 125       |  57.6     | 2.0       |\n",
       "|  5 Series | 2016      | 14300     | Automatic |  67530    | Diesel    |  30       |  62.8     | 2.0       |\n",
       "|  X4       | 2015      | 20000     | Automatic |  44147    | Diesel    | 200       |  47.9     | 3.0       |\n",
       "|  X3       | 2016      | 19000     | Automatic |  40818    | Diesel    | 150       |  54.3     | 2.0       |\n",
       "|  5 Series | 2016      | 14600     | Automatic |  42947    | Diesel    | 125       |  60.1     | 2.0       |\n",
       "|  3 Series | 2017      | 13100     | Manual    |  25468    | Petrol    | 200       |  42.8     | 2.0       |\n",
       "|  1 Series | 2014      |  9930     | Automatic |  45000    | Diesel    |  30       |  64.2     | 2.0       |\n",
       "|  X1       | 2017      | 15981     | Automatic |  59432    | Diesel    | 125       |  57.6     | 2.0       |\n",
       "\n"
      ],
      "text/plain": [
       "      model     year price transmission mileage fuelType tax mpg   engineSize\n",
       "1      5 Series 2014 11200 Automatic    67068   Diesel   125  57.6 2.0       \n",
       "2      6 Series 2018 27000 Automatic    14827   Petrol   145  42.8 2.0       \n",
       "3      5 Series 2016 16000 Automatic    62794   Diesel   160  51.4 3.0       \n",
       "4      1 Series 2017 12750 Automatic    26676   Diesel   145  72.4 1.5       \n",
       "5      7 Series 2014 14500 Automatic    39554   Diesel   160  50.4 3.0       \n",
       "6      5 Series 2016 14900 Automatic    35309   Diesel   125  60.1 2.0       \n",
       "7      5 Series 2017 16000 Automatic    38538   Diesel   125  60.1 2.0       \n",
       "8      2 Series 2018 16250 Manual       10401   Petrol   145  52.3 1.5       \n",
       "9      4 Series 2017 14250 Manual       42668   Diesel    30  62.8 2.0       \n",
       "10     5 Series 2016 14250 Automatic    36099   Diesel    20  68.9 2.0       \n",
       "11     X3       2017 15500 Manual       74907   Diesel   145  52.3 2.0       \n",
       "12     1 Series 2017 11800 Manual       29840   Diesel    20  68.9 2.0       \n",
       "13     X3       2016 15500 Automatic    77823   Diesel   125  54.3 2.0       \n",
       "14     2 Series 2015 10500 Manual       31469   Diesel    20  68.9 2.0       \n",
       "15     X3       2017 22000 Automatic    19057   Diesel   145  54.3 2.0       \n",
       "16     3 Series 2017 16500 Manual       16570   Diesel   125  58.9 2.0       \n",
       "17     3 Series 2017 14250 Automatic    55594   Other    135 148.7 2.0       \n",
       "18     3 Series 2017 16000 Automatic    45456   Diesel    30  64.2 2.0       \n",
       "19     1 Series 2017 15500 Automatic    22812   Diesel    20  68.9 1.5       \n",
       "20     4 Series 2014 14000 Automatic    47348   Diesel   125  60.1 2.0       \n",
       "21     1 Series 2015  9700 Automatic    75124   Diesel    20  70.6 2.0       \n",
       "22     3 Series 2015 12600 Automatic    78957   Diesel    30  62.8 2.0       \n",
       "23     3 Series 2016 15100 Automatic    29213   Diesel    30  64.2 2.0       \n",
       "24     1 Series 2016  9400 Manual       44498   Diesel     0  83.1 1.5       \n",
       "25     1 Series 2016 14300 Automatic    22461   Diesel    20  67.3 2.0       \n",
       "26     1 Series 2016 11200 Manual       23005   Petrol   125  53.3 1.5       \n",
       "27     3 Series 2019 17800 Automatic    22310   Diesel   145  64.2 2.0       \n",
       "28     3 Series 2016 14400 Automatic    51994   Diesel    30  62.8 2.0       \n",
       "29     X5       2016 19750 Automatic    96213   Diesel   165  52.3 2.0       \n",
       "30     X3       2015 17400 Automatic    50316   Diesel   200  47.9 3.0       \n",
       "...   ...       ...  ...   ...          ...     ...      ... ...   ...       \n",
       "10752  3 Series 2013 10295 Automatic     31850  Petrol   145  47.9 1.6       \n",
       "10753  3 Series 2010  7995 Automatic     41500  Petrol   200  41.5 2.0       \n",
       "10754  X1       2011  7295 Manual        70760  Diesel   160  49.6 2.0       \n",
       "10755  3 Series 2013 14950 Automatic     66500  Diesel   160  52.3 3.0       \n",
       "10756  2 Series 2019 18887 Automatic     13955  Petrol   145  50.4 1.5       \n",
       "10757  3 Series 2005  5678 Automatic     63000  Diesel   260  42.2 2.0       \n",
       "10758  3 Series 2012  9999 Automatic     52000  Diesel   160  50.4 2.0       \n",
       "10759  X3       2014 14400 Automatic     43307  Diesel   145  54.3 2.0       \n",
       "10760  1 Series 2016 11200 Manual        54008  Diesel    30  62.8 2.0       \n",
       "10761  1 Series 2016  9600 Manual        65435  Diesel    30  65.7 2.0       \n",
       "10762  X1       2016 17200 Automatic     34769  Diesel   125  57.6 2.0       \n",
       "10763  1 Series 2016  9100 Manual        53177  Diesel     0  78.5 1.5       \n",
       "10764  1 Series 2016  8500 Manual        68810  Diesel     0  83.1 1.5       \n",
       "10765  1 Series 2016  9100 Manual        54596  Diesel     0  83.1 1.5       \n",
       "10766  3 Series 2016 17700 Automatic     20670  Other      0 134.5 2.0       \n",
       "10767  1 Series 2016  8700 Manual        54987  Diesel     0  83.1 1.5       \n",
       "10768  3 Series 2016 13000 Manual        58727  Diesel   125  60.1 2.0       \n",
       "10769  X1       2016 13700 Manual        26018  Diesel    20  68.9 2.0       \n",
       "10770  3 Series 2015 12300 Manual        39347  Diesel   125  60.1 2.0       \n",
       "10771  7 Series 2008  6480 Automatic     70500  Diesel   325  35.3 3.0       \n",
       "10772  5 Series 2015 11700 Automatic    106000  Diesel   160  51.4 2.0       \n",
       "10773  1 Series 2017 10200 Manual        41435  Diesel     0  83.1 1.5       \n",
       "10774  X1       2017 15900 Automatic     60372  Diesel   125  57.6 2.0       \n",
       "10775  5 Series 2016 14300 Automatic     67530  Diesel    30  62.8 2.0       \n",
       "10776  X4       2015 20000 Automatic     44147  Diesel   200  47.9 3.0       \n",
       "10777  X3       2016 19000 Automatic     40818  Diesel   150  54.3 2.0       \n",
       "10778  5 Series 2016 14600 Automatic     42947  Diesel   125  60.1 2.0       \n",
       "10779  3 Series 2017 13100 Manual        25468  Petrol   200  42.8 2.0       \n",
       "10780  1 Series 2014  9930 Automatic     45000  Diesel    30  64.2 2.0       \n",
       "10781  X1       2017 15981 Automatic     59432  Diesel   125  57.6 2.0       "
      ]
     },
     "metadata": {},
     "output_type": "display_data"
    },
    {
     "data": {
      "text/html": [
       "<table>\n",
       "<thead><tr><th scope=col>model</th><th scope=col>year</th><th scope=col>price</th><th scope=col>transmission</th><th scope=col>mileage</th><th scope=col>fuelType</th><th scope=col>tax</th><th scope=col>mpg</th><th scope=col>engineSize</th></tr></thead>\n",
       "<tbody>\n",
       "</tbody>\n",
       "</table>\n"
      ],
      "text/latex": [
       "\\begin{tabular}{r|lllllllll}\n",
       " model & year & price & transmission & mileage & fuelType & tax & mpg & engineSize\\\\\n",
       "\\hline\n",
       "\\end{tabular}\n"
      ],
      "text/markdown": [
       "\n",
       "| model | year | price | transmission | mileage | fuelType | tax | mpg | engineSize |\n",
       "|---|---|---|---|---|---|---|---|---|\n",
       "\n"
      ],
      "text/plain": [
       "     model year price transmission mileage fuelType tax mpg engineSize"
      ]
     },
     "metadata": {},
     "output_type": "display_data"
    }
   ],
   "source": [
    "# Import and check the automatically assigned data types\n",
    "data <- read.csv(\"bmw.csv\", header = TRUE)\n",
    "str(data) \n",
    "data\n",
    "data[data$model=='7 Series', ]"
   ]
  },
  {
   "cell_type": "code",
   "execution_count": 5,
   "id": "611192c1",
   "metadata": {},
   "outputs": [
    {
     "data": {
      "text/html": [
       "<ol class=list-inline>\n",
       "\t<li>10781</li>\n",
       "\t<li>9</li>\n",
       "</ol>\n"
      ],
      "text/latex": [
       "\\begin{enumerate*}\n",
       "\\item 10781\n",
       "\\item 9\n",
       "\\end{enumerate*}\n"
      ],
      "text/markdown": [
       "1. 10781\n",
       "2. 9\n",
       "\n",
       "\n"
      ],
      "text/plain": [
       "[1] 10781     9"
      ]
     },
     "metadata": {},
     "output_type": "display_data"
    }
   ],
   "source": [
    "dim(data)"
   ]
  },
  {
   "cell_type": "code",
   "execution_count": 7,
   "id": "96382f0e",
   "metadata": {},
   "outputs": [],
   "source": [
    "library(psych)"
   ]
  },
  {
   "cell_type": "code",
   "execution_count": 8,
   "id": "41598874",
   "metadata": {},
   "outputs": [
    {
     "data": {
      "text/html": [
       "<table>\n",
       "<thead><tr><th></th><th scope=col>vars</th><th scope=col>n</th><th scope=col>mean</th><th scope=col>sd</th><th scope=col>median</th><th scope=col>trimmed</th><th scope=col>mad</th><th scope=col>min</th><th scope=col>max</th><th scope=col>range</th><th scope=col>skew</th><th scope=col>kurtosis</th><th scope=col>se</th></tr></thead>\n",
       "<tbody>\n",
       "\t<tr><th scope=row>model*</th><td>1           </td><td>10781       </td><td>    6.734904</td><td>6.760221e+00</td><td>    3.0     </td><td>    5.772870</td><td>    2.96520 </td><td>   1.0      </td><td>    24.0    </td><td>    23.0    </td><td> 1.0954517  </td><td> -0.4406012 </td><td>6.510755e-02</td></tr>\n",
       "\t<tr><th scope=row>year</th><td>2           </td><td>10781       </td><td> 2017.078935</td><td>2.349038e+00</td><td> 2017.0     </td><td> 2017.355478</td><td>    2.96520 </td><td>1996.0      </td><td>  2020.0    </td><td>    24.0    </td><td>-1.7886611  </td><td>  7.1597166 </td><td>2.262354e-02</td></tr>\n",
       "\t<tr><th scope=row>price</th><td>3           </td><td>10781       </td><td>22733.408867</td><td>1.141553e+04</td><td>20462.0     </td><td>21275.569159</td><td> 9515.32680 </td><td>1200.0      </td><td>123456.0    </td><td>122256.0    </td><td> 1.5864449  </td><td>  4.0177642 </td><td>1.099427e+02</td></tr>\n",
       "\t<tr><th scope=row>transmission*</th><td>4           </td><td>10781       </td><td>    2.099991</td><td>8.692975e-01</td><td>    2.0     </td><td>    2.124986</td><td>    1.48260 </td><td>   1.0      </td><td>     3.0    </td><td>     2.0    </td><td>-0.1943501  </td><td> -1.6494311 </td><td>8.372187e-03</td></tr>\n",
       "\t<tr><th scope=row>mileage</th><td>5           </td><td>10781       </td><td>25496.986550</td><td>2.514319e+04</td><td>18347.0     </td><td>21689.764058</td><td>21214.52340 </td><td>   1.0      </td><td>214000.0    </td><td>213999.0    </td><td> 1.3827157  </td><td>  2.2234408 </td><td>2.421536e+02</td></tr>\n",
       "\t<tr><th scope=row>fuelType*</th><td>6           </td><td>10781       </td><td>    2.333364</td><td>1.853240e+00</td><td>    1.0     </td><td>    2.166725</td><td>    0.00000 </td><td>   1.0      </td><td>     5.0    </td><td>     4.0    </td><td> 0.7052012  </td><td> -1.4640278 </td><td>1.784852e-02</td></tr>\n",
       "\t<tr><th scope=row>tax</th><td>7           </td><td>10781       </td><td>  131.702068</td><td>6.151076e+01</td><td>  145.0     </td><td>  134.249275</td><td>    7.41300 </td><td>   0.0      </td><td>   580.0    </td><td>   580.0    </td><td> 0.8275981  </td><td>  9.2515545 </td><td>5.924088e-01</td></tr>\n",
       "\t<tr><th scope=row>mpg</th><td>8           </td><td>10781       </td><td>   56.399035</td><td>3.133696e+01</td><td>   53.3     </td><td>   53.514736</td><td>   13.63992 </td><td>   5.5      </td><td>   470.8    </td><td>   465.3    </td><td> 9.6265547  </td><td>120.3800387 </td><td>3.018056e-01</td></tr>\n",
       "\t<tr><th scope=row>engineSize</th><td>9           </td><td>10781       </td><td>    2.167767</td><td>5.520538e-01</td><td>    2.0     </td><td>    2.141414</td><td>    0.00000 </td><td>   0.0      </td><td>     6.6    </td><td>     6.6    </td><td> 0.8512853  </td><td>  2.4358931 </td><td>5.316819e-03</td></tr>\n",
       "</tbody>\n",
       "</table>\n"
      ],
      "text/latex": [
       "\\begin{tabular}{r|lllllllllllll}\n",
       "  & vars & n & mean & sd & median & trimmed & mad & min & max & range & skew & kurtosis & se\\\\\n",
       "\\hline\n",
       "\tmodel* & 1            & 10781        &     6.734904 & 6.760221e+00 &     3.0      &     5.772870 &     2.96520  &    1.0       &     24.0     &     23.0     &  1.0954517   &  -0.4406012  & 6.510755e-02\\\\\n",
       "\tyear & 2            & 10781        &  2017.078935 & 2.349038e+00 &  2017.0      &  2017.355478 &     2.96520  & 1996.0       &   2020.0     &     24.0     & -1.7886611   &   7.1597166  & 2.262354e-02\\\\\n",
       "\tprice & 3            & 10781        & 22733.408867 & 1.141553e+04 & 20462.0      & 21275.569159 &  9515.32680  & 1200.0       & 123456.0     & 122256.0     &  1.5864449   &   4.0177642  & 1.099427e+02\\\\\n",
       "\ttransmission* & 4            & 10781        &     2.099991 & 8.692975e-01 &     2.0      &     2.124986 &     1.48260  &    1.0       &      3.0     &      2.0     & -0.1943501   &  -1.6494311  & 8.372187e-03\\\\\n",
       "\tmileage & 5            & 10781        & 25496.986550 & 2.514319e+04 & 18347.0      & 21689.764058 & 21214.52340  &    1.0       & 214000.0     & 213999.0     &  1.3827157   &   2.2234408  & 2.421536e+02\\\\\n",
       "\tfuelType* & 6            & 10781        &     2.333364 & 1.853240e+00 &     1.0      &     2.166725 &     0.00000  &    1.0       &      5.0     &      4.0     &  0.7052012   &  -1.4640278  & 1.784852e-02\\\\\n",
       "\ttax & 7            & 10781        &   131.702068 & 6.151076e+01 &   145.0      &   134.249275 &     7.41300  &    0.0       &    580.0     &    580.0     &  0.8275981   &   9.2515545  & 5.924088e-01\\\\\n",
       "\tmpg & 8            & 10781        &    56.399035 & 3.133696e+01 &    53.3      &    53.514736 &    13.63992  &    5.5       &    470.8     &    465.3     &  9.6265547   & 120.3800387  & 3.018056e-01\\\\\n",
       "\tengineSize & 9            & 10781        &     2.167767 & 5.520538e-01 &     2.0      &     2.141414 &     0.00000  &    0.0       &      6.6     &      6.6     &  0.8512853   &   2.4358931  & 5.316819e-03\\\\\n",
       "\\end{tabular}\n"
      ],
      "text/markdown": [
       "\n",
       "| <!--/--> | vars | n | mean | sd | median | trimmed | mad | min | max | range | skew | kurtosis | se |\n",
       "|---|---|---|---|---|---|---|---|---|---|---|---|---|---|\n",
       "| model* | 1            | 10781        |     6.734904 | 6.760221e+00 |     3.0      |     5.772870 |     2.96520  |    1.0       |     24.0     |     23.0     |  1.0954517   |  -0.4406012  | 6.510755e-02 |\n",
       "| year | 2            | 10781        |  2017.078935 | 2.349038e+00 |  2017.0      |  2017.355478 |     2.96520  | 1996.0       |   2020.0     |     24.0     | -1.7886611   |   7.1597166  | 2.262354e-02 |\n",
       "| price | 3            | 10781        | 22733.408867 | 1.141553e+04 | 20462.0      | 21275.569159 |  9515.32680  | 1200.0       | 123456.0     | 122256.0     |  1.5864449   |   4.0177642  | 1.099427e+02 |\n",
       "| transmission* | 4            | 10781        |     2.099991 | 8.692975e-01 |     2.0      |     2.124986 |     1.48260  |    1.0       |      3.0     |      2.0     | -0.1943501   |  -1.6494311  | 8.372187e-03 |\n",
       "| mileage | 5            | 10781        | 25496.986550 | 2.514319e+04 | 18347.0      | 21689.764058 | 21214.52340  |    1.0       | 214000.0     | 213999.0     |  1.3827157   |   2.2234408  | 2.421536e+02 |\n",
       "| fuelType* | 6            | 10781        |     2.333364 | 1.853240e+00 |     1.0      |     2.166725 |     0.00000  |    1.0       |      5.0     |      4.0     |  0.7052012   |  -1.4640278  | 1.784852e-02 |\n",
       "| tax | 7            | 10781        |   131.702068 | 6.151076e+01 |   145.0      |   134.249275 |     7.41300  |    0.0       |    580.0     |    580.0     |  0.8275981   |   9.2515545  | 5.924088e-01 |\n",
       "| mpg | 8            | 10781        |    56.399035 | 3.133696e+01 |    53.3      |    53.514736 |    13.63992  |    5.5       |    470.8     |    465.3     |  9.6265547   | 120.3800387  | 3.018056e-01 |\n",
       "| engineSize | 9            | 10781        |     2.167767 | 5.520538e-01 |     2.0      |     2.141414 |     0.00000  |    0.0       |      6.6     |      6.6     |  0.8512853   |   2.4358931  | 5.316819e-03 |\n",
       "\n"
      ],
      "text/plain": [
       "              vars n     mean         sd           median  trimmed     \n",
       "model*        1    10781     6.734904 6.760221e+00     3.0     5.772870\n",
       "year          2    10781  2017.078935 2.349038e+00  2017.0  2017.355478\n",
       "price         3    10781 22733.408867 1.141553e+04 20462.0 21275.569159\n",
       "transmission* 4    10781     2.099991 8.692975e-01     2.0     2.124986\n",
       "mileage       5    10781 25496.986550 2.514319e+04 18347.0 21689.764058\n",
       "fuelType*     6    10781     2.333364 1.853240e+00     1.0     2.166725\n",
       "tax           7    10781   131.702068 6.151076e+01   145.0   134.249275\n",
       "mpg           8    10781    56.399035 3.133696e+01    53.3    53.514736\n",
       "engineSize    9    10781     2.167767 5.520538e-01     2.0     2.141414\n",
       "              mad         min    max      range    skew       kurtosis   \n",
       "model*            2.96520    1.0     24.0     23.0  1.0954517  -0.4406012\n",
       "year              2.96520 1996.0   2020.0     24.0 -1.7886611   7.1597166\n",
       "price          9515.32680 1200.0 123456.0 122256.0  1.5864449   4.0177642\n",
       "transmission*     1.48260    1.0      3.0      2.0 -0.1943501  -1.6494311\n",
       "mileage       21214.52340    1.0 214000.0 213999.0  1.3827157   2.2234408\n",
       "fuelType*         0.00000    1.0      5.0      4.0  0.7052012  -1.4640278\n",
       "tax               7.41300    0.0    580.0    580.0  0.8275981   9.2515545\n",
       "mpg              13.63992    5.5    470.8    465.3  9.6265547 120.3800387\n",
       "engineSize        0.00000    0.0      6.6      6.6  0.8512853   2.4358931\n",
       "              se          \n",
       "model*        6.510755e-02\n",
       "year          2.262354e-02\n",
       "price         1.099427e+02\n",
       "transmission* 8.372187e-03\n",
       "mileage       2.421536e+02\n",
       "fuelType*     1.784852e-02\n",
       "tax           5.924088e-01\n",
       "mpg           3.018056e-01\n",
       "engineSize    5.316819e-03"
      ]
     },
     "metadata": {},
     "output_type": "display_data"
    },
    {
     "data": {
      "text/html": [
       "<dl class=dl-horizontal>\n",
       "\t<dt> 1 Series</dt>\n",
       "\t\t<dd>1969</dd>\n",
       "\t<dt> 2 Series</dt>\n",
       "\t\t<dd>1229</dd>\n",
       "\t<dt> 3 Series</dt>\n",
       "\t\t<dd>2443</dd>\n",
       "\t<dt> 4 Series</dt>\n",
       "\t\t<dd>995</dd>\n",
       "\t<dt> 5 Series</dt>\n",
       "\t\t<dd>1056</dd>\n",
       "\t<dt> 6 Series</dt>\n",
       "\t\t<dd>108</dd>\n",
       "\t<dt> 7 Series</dt>\n",
       "\t\t<dd>106</dd>\n",
       "\t<dt> 8 Series</dt>\n",
       "\t\t<dd>39</dd>\n",
       "\t<dt> i3</dt>\n",
       "\t\t<dd>43</dd>\n",
       "\t<dt> i8</dt>\n",
       "\t\t<dd>17</dd>\n",
       "\t<dt> M2</dt>\n",
       "\t\t<dd>21</dd>\n",
       "\t<dt> M3</dt>\n",
       "\t\t<dd>27</dd>\n",
       "\t<dt> M4</dt>\n",
       "\t\t<dd>125</dd>\n",
       "\t<dt> M5</dt>\n",
       "\t\t<dd>29</dd>\n",
       "\t<dt> M6</dt>\n",
       "\t\t<dd>8</dd>\n",
       "\t<dt> X1</dt>\n",
       "\t\t<dd>804</dd>\n",
       "\t<dt> X2</dt>\n",
       "\t\t<dd>288</dd>\n",
       "\t<dt> X3</dt>\n",
       "\t\t<dd>551</dd>\n",
       "\t<dt> X4</dt>\n",
       "\t\t<dd>179</dd>\n",
       "\t<dt> X5</dt>\n",
       "\t\t<dd>468</dd>\n",
       "\t<dt> X6</dt>\n",
       "\t\t<dd>106</dd>\n",
       "\t<dt> X7</dt>\n",
       "\t\t<dd>55</dd>\n",
       "\t<dt> Z3</dt>\n",
       "\t\t<dd>7</dd>\n",
       "\t<dt> Z4</dt>\n",
       "\t\t<dd>108</dd>\n",
       "</dl>\n"
      ],
      "text/latex": [
       "\\begin{description*}\n",
       "\\item[ 1 Series] 1969\n",
       "\\item[ 2 Series] 1229\n",
       "\\item[ 3 Series] 2443\n",
       "\\item[ 4 Series] 995\n",
       "\\item[ 5 Series] 1056\n",
       "\\item[ 6 Series] 108\n",
       "\\item[ 7 Series] 106\n",
       "\\item[ 8 Series] 39\n",
       "\\item[ i3] 43\n",
       "\\item[ i8] 17\n",
       "\\item[ M2] 21\n",
       "\\item[ M3] 27\n",
       "\\item[ M4] 125\n",
       "\\item[ M5] 29\n",
       "\\item[ M6] 8\n",
       "\\item[ X1] 804\n",
       "\\item[ X2] 288\n",
       "\\item[ X3] 551\n",
       "\\item[ X4] 179\n",
       "\\item[ X5] 468\n",
       "\\item[ X6] 106\n",
       "\\item[ X7] 55\n",
       "\\item[ Z3] 7\n",
       "\\item[ Z4] 108\n",
       "\\end{description*}\n"
      ],
      "text/markdown": [
       " 1 Series\n",
       ":   1969 2 Series\n",
       ":   1229 3 Series\n",
       ":   2443 4 Series\n",
       ":   995 5 Series\n",
       ":   1056 6 Series\n",
       ":   108 7 Series\n",
       ":   106 8 Series\n",
       ":   39 i3\n",
       ":   43 i8\n",
       ":   17 M2\n",
       ":   21 M3\n",
       ":   27 M4\n",
       ":   125 M5\n",
       ":   29 M6\n",
       ":   8 X1\n",
       ":   804 X2\n",
       ":   288 X3\n",
       ":   551 X4\n",
       ":   179 X5\n",
       ":   468 X6\n",
       ":   106 X7\n",
       ":   55 Z3\n",
       ":   7 Z4\n",
       ":   108\n",
       "\n"
      ],
      "text/plain": [
       " 1 Series  2 Series  3 Series  4 Series  5 Series  6 Series  7 Series  8 Series \n",
       "     1969      1229      2443       995      1056       108       106        39 \n",
       "       i3        i8        M2        M3        M4        M5        M6        X1 \n",
       "       43        17        21        27       125        29         8       804 \n",
       "       X2        X3        X4        X5        X6        X7        Z3        Z4 \n",
       "      288       551       179       468       106        55         7       108 "
      ]
     },
     "metadata": {},
     "output_type": "display_data"
    }
   ],
   "source": [
    "describe(data)\n",
    "summary(data$model)"
   ]
  },
  {
   "cell_type": "code",
   "execution_count": 83,
   "id": "65887d78",
   "metadata": {},
   "outputs": [
    {
     "name": "stdout",
     "output_type": "stream",
     "text": [
      "[1] \"Count of missing values in each column of the dataset:\"\n"
     ]
    },
    {
     "data": {
      "text/plain": [
       "\n",
       "FALSE \n",
       "97029 "
      ]
     },
     "metadata": {},
     "output_type": "display_data"
    },
    {
     "name": "stdout",
     "output_type": "stream",
     "text": [
      "[1] \"The missing values don't exist\"\n"
     ]
    }
   ],
   "source": [
    "# Check for missing values\n",
    "print(\"Count of missing values in each column of the dataset:\")\n",
    "table(is.na(data))\n",
    "print(\"The missing values don't exist\")"
   ]
  },
  {
   "cell_type": "markdown",
   "id": "5934b3f9",
   "metadata": {},
   "source": [
    "In the data doesn't occur any huge errors. But as I can see in the descprition part, there will be some outliers. It's especially visible in the mpg column where the skewness and kurtosis are huge. However, due to the fact of big size of teh dataset, the outliers won't be harmful."
   ]
  },
  {
   "cell_type": "code",
   "execution_count": 12,
   "id": "f4a2c7eb",
   "metadata": {},
   "outputs": [
    {
     "data": {
      "text/plain": [
       "   Min. 1st Qu.  Median    Mean 3rd Qu.    Max. \n",
       "   1200   14950   20462   22733   27940  123456 "
      ]
     },
     "metadata": {},
     "output_type": "display_data"
    },
    {
     "data": {
      "image/png": "[encoded data removed]",
      "text/plain": [
       "plot without title"
      ]
     },
     "metadata": {},
     "output_type": "display_data"
    }
   ],
   "source": [
    "p1 <- ggplot(data) +\n",
    "  aes(x = price) +\n",
    "  geom_histogram(aes(y=..density..), bins = 30L, fill=\"darkslategray2\") +\n",
    "  geom_density(alpha=0.2) +\n",
    "  theme_minimal() +\n",
    "  ggtitle(\"Car Price Distribution Plot\")\n",
    "p2 <- ggplot(data, aes(y=price)) + \n",
    "      geom_boxplot() +\n",
    "      ggtitle(\"Car Price Spread\")\n",
    "grid.arrange(p1, p2, nrow = 1)\n",
    "print('Summary of the price')\n",
    "summary(data$price)"
   ]
  },
  {
   "cell_type": "markdown",
   "id": "432a5af1",
   "metadata": {},
   "source": [
    "__Inference:__\n",
    "\n",
    "1. The plot is right-skewed. It means that the most prices in the dataset are under 30000.\n",
    "2. The outliers represent the luxury models which prices are higher than 50000,\n",
    "3. The data points are largely spread out, especially more expensive models. It indicates a high variance in the car prices."
   ]
  },
  {
   "cell_type": "markdown",
   "id": "3956513c",
   "metadata": {},
   "source": [
    "__Visualising categorical data:__\n",
    "\n",
    "- model\n",
    "- year of production\n",
    "- car transmission\n",
    "- type of fuel"
   ]
  },
  {
   "cell_type": "code",
   "execution_count": 59,
   "id": "c08d7ad0",
   "metadata": {},
   "outputs": [
    {
     "data": {
      "image/png": "[encoded data removed]",
      "text/plain": [
       "plot without title"
      ]
     },
     "metadata": {},
     "output_type": "display_data"
    },
    {
     "data": {
      "image/png": "[encoded data removed]",
      "text/plain": [
       "plot without title"
      ]
     },
     "metadata": {},
     "output_type": "display_data"
    }
   ],
   "source": [
    "p <- ggplot(data, aes(x = model, fill=model)) +\n",
    "    geom_bar() +\n",
    "    theme(axis.text.x = element_text(angle=45, hjust=1, vjust = 1),\n",
    "          plot.margin = margin(t = 20, r = 10, b = 10, l = 10),\n",
    "          legend.position = \"none\") +\n",
    "    xlab('BMW model') +\n",
    "    ylab('Frequency') +\n",
    "    ggtitle('Model bar chart') +\n",
    "    theme(plot.title = element_text(hjust = 0.5))\n",
    "p\n",
    "y <- ggplot(data, aes(x = factor(year), fill=factor(year))) +\n",
    "    geom_bar() +\n",
    "    theme(axis.text.x = element_text(angle=45, hjust=1, vjust = 1),\n",
    "          plot.margin = margin(t = 20, r = 10, b = 10, l = 10),\n",
    "          legend.position = \"none\") +\n",
    "    xlab('Year of production') +\n",
    "    ylab('Frequency') +\n",
    "    ggtitle('Year bar chart') +\n",
    "    theme(plot.title = element_text(hjust = 0.5))\n",
    "y"
   ]
  },
  {
   "cell_type": "code",
   "execution_count": 61,
   "id": "9b53ac82",
   "metadata": {},
   "outputs": [
    {
     "data": {
      "image/png": "[encoded data removed]",
      "text/plain": [
       "plot without title"
      ]
     },
     "metadata": {},
     "output_type": "display_data"
    }
   ],
   "source": [
    "t <- ggplot(data, aes(x = transmission, fill=transmission)) +\n",
    "    geom_bar() +\n",
    "    theme(axis.text.x = element_text(angle=45, hjust=1, vjust = 1),\n",
    "          plot.margin = margin(t = 20, r = 10, b = 10, l = 10),\n",
    "          legend.position = \"none\") +\n",
    "    xlab('Types of transmission in BMW models') +\n",
    "    ylab('Frequency') +\n",
    "    ggtitle('Transmission bar chart') +\n",
    "    theme(plot.title = element_text(hjust = 0.5))\n",
    "\n",
    "f <- ggplot(data, aes(x = fuelType, fill=factor(fuelType))) +\n",
    "    geom_bar() +\n",
    "    theme(axis.text.x = element_text(angle=45, hjust=1, vjust = 1),\n",
    "          plot.margin = margin(t = 20, r = 10, b = 10, l = 10),\n",
    "          legend.position = \"none\") +\n",
    "    xlab('Types of fuel in BMW models') +\n",
    "    ylab('Frequency') +\n",
    "    ggtitle('Fuel type bar chart') +\n",
    "    theme(plot.title = element_text(hjust = 0.5))\n",
    "grid.arrange(t, f, nrow = 1)"
   ]
  },
  {
   "cell_type": "markdown",
   "id": "9dcab151",
   "metadata": {},
   "source": [
    "__Inference:__\n",
    "\n",
    "1. The \"X Series\" models are the most popular in group of BMW cars.\n",
    "2. Almost every car in the dataset was produced in the last decade.\n",
    "3. Semi-auto is the most popular type of transmission in modern BMW cars.\n",
    "4. Number of diesel fueled cars are more than petrol."
   ]
  },
  {
   "cell_type": "code",
   "execution_count": 7,
   "id": "f06bd09a",
   "metadata": {},
   "outputs": [
    {
     "data": {
      "image/png": "[encoded data removed]",
      "text/plain": [
       "plot without title"
      ]
     },
     "metadata": {},
     "output_type": "display_data"
    },
    {
     "data": {
      "image/png": "[encoded data removed]",
      "text/plain": [
       "plot without title"
      ]
     },
     "metadata": {},
     "output_type": "display_data"
    }
   ],
   "source": [
    "d <- setNames(aggregate(data[, 3], list(data$model), mean), c('model', 'avg_price'))\n",
    "\n",
    "plot1 <- ggplot(d, aes(x=model, y=avg_price)) +\n",
    "    geom_bar(stat=\"identity\", color=\"blue\", fill=rgb(0.1,0.4,0.5,0.7)) +\n",
    "    theme(axis.text.x = element_text(angle=45, hjust=1, vjust = 1),\n",
    "          plot.margin = margin(t = 20, r = 10, b = 10, l = 10)) +\n",
    "    xlab('BMW models') +\n",
    "    ylab('price') +\n",
    "    ggtitle('BMW model vs average price') +\n",
    "    theme(plot.title = element_text(hjust = 0.5))\n",
    "plot1\n",
    "\n",
    "d <- setNames(aggregate(data[, 3], list(data$year), mean), c('year', 'avg_price'))\n",
    "plot2 <- ggplot(d, aes(x=year, y=avg_price)) +\n",
    "    geom_bar(stat=\"identity\", color=\"blue\", fill=rgb(0.1,0.4,0.5,0.7)) +\n",
    "    theme(axis.text.x = element_text(angle=45, hjust=1, vjust = 1),\n",
    "          plot.margin = margin(t = 20, r = 10, b = 10, l = 10)) +\n",
    "    xlab('Years of production') +\n",
    "    ylab('price') +\n",
    "    ggtitle('Years of production vs average price') +\n",
    "    theme(plot.title = element_text(hjust = 0.5))\n",
    "plot2"
   ]
  },
  {
   "cell_type": "code",
   "execution_count": 11,
   "id": "194e7d20",
   "metadata": {},
   "outputs": [
    {
     "data": {
      "image/png": "[encoded data removed]",
      "text/plain": [
       "plot without title"
      ]
     },
     "metadata": {},
     "output_type": "display_data"
    }
   ],
   "source": [
    "d <- setNames(aggregate(data[, 3], list(data$transmission), mean), c('transmission', 'avg_price'))\n",
    "\n",
    "t <- ggplot(d, aes(x=transmission, y=avg_price)) +\n",
    "    geom_bar(stat=\"identity\", color=\"blue\", fill=rgb(0.1,0.4,0.5,0.7)) +\n",
    "    theme(axis.text.x = element_text(angle=45, hjust=1, vjust = 1),\n",
    "          plot.margin = margin(t = 20, r = 10, b = 10, l = 10)) +\n",
    "    xlab('Types of transmission') +\n",
    "    ylab('price') +\n",
    "    ggtitle('Types of transmission vs average price') +\n",
    "    theme(plot.title = element_text(hjust = 0.75))\n",
    "\n",
    "d <- setNames(aggregate(data[, 3], list(data$fuelType), mean), c('fuelType', 'avg_price'))\n",
    "f <- ggplot(d, aes(x=fuelType, y=avg_price)) +\n",
    "    geom_bar(stat=\"identity\", color=\"blue\", fill=rgb(0.1,0.4,0.5,0.7)) +\n",
    "    theme(axis.text.x = element_text(angle=45, hjust=1, vjust = 1),\n",
    "          plot.margin = margin(t = 20, r = 10, b = 10, l = 10)) +\n",
    "    xlab('Types of fuel') +\n",
    "    ylab('price') +\n",
    "    ggtitle('Types of fuel vs average price') +\n",
    "    theme(plot.title = element_text(hjust = 0.5))\n",
    "grid.arrange(t, f, nrow = 1)"
   ]
  },
  {
   "cell_type": "markdown",
   "id": "25898737",
   "metadata": {},
   "source": [
    "__Inference:__\n",
    "\n",
    "1. The newest models are of course the most expensive.\n",
    "2. There are a couple models with the highest average price.\n",
    "3. Semi-auto type of transmission is the most expensive, the most cars of that type are also available in the dataset.\n",
    "4. The hybrid vehicles have the biggest average price."
   ]
  },
  {
   "cell_type": "markdown",
   "id": "9d0027c0",
   "metadata": {},
   "source": [
    "According to the year of production, I will try to modify the column to have less categories."
   ]
  },
  {
   "cell_type": "code",
   "execution_count": 10,
   "id": "1138a111",
   "metadata": {},
   "outputs": [],
   "source": [
    "cut_vehicle_year <- cut(data$year, breaks=c(1995, 2012, 2017, 2021),\n",
    "                       labels=c('1996-2012 (old)', '2013-2017 (middle-aged)', '2018-2020 (new)'))\n",
    "new_data <- data.frame(data, cut_vehicle_year)\n",
    "#head(new_data)"
   ]
  },
  {
   "cell_type": "markdown",
   "id": "57b40927",
   "metadata": {},
   "source": [
    "__Visualising numerical data:__\n",
    "\n",
    "- mileage\n",
    "- taxes\n",
    "- mpg (fuel economy) \n",
    "- size of an engine"
   ]
  },
  {
   "cell_type": "code",
   "execution_count": 29,
   "id": "dc18a0e5",
   "metadata": {},
   "outputs": [
    {
     "data": {
      "image/png": "[encoded data removed]",
      "text/plain": [
       "plot without title"
      ]
     },
     "metadata": {},
     "output_type": "display_data"
    }
   ],
   "source": [
    "t1 <- ggplot(new_data, aes(x=mileage, y=price)) + geom_point(color='blue') + ggtitle('Mileage vs price') + \n",
    "                                                  theme(plot.title = element_text(hjust = 0.5))\n",
    "t2 <- ggplot(new_data, aes(x=tax, y=price)) + geom_point(color='blue') + ggtitle('Taxes vs price') + \n",
    "                                              theme(plot.title = element_text(hjust = 0.5))\n",
    "t3 <- ggplot(new_data, aes(x=mpg, y=price)) + geom_point(color='blue') + ggtitle('Fuel economy vs price') + \n",
    "                                              theme(plot.title = element_text(hjust = 0.5))\n",
    "t4 <- ggplot(new_data, aes(x=engineSize, y=price)) + geom_point(color='blue') + ggtitle('Size of an engine vs price') + \n",
    "                                                     theme(plot.title = element_text(hjust = 0.5))\n",
    "grid.arrange(t1, t2, t3, t4, nrow = 2)"
   ]
  },
  {
   "cell_type": "markdown",
   "id": "c04ecf26",
   "metadata": {},
   "source": [
    "__Inference:__\n",
    "\n",
    "1. Mpg, engineSize and tax don't show any significant trend with price.\n",
    "2. Mileage seems to have a significant negative correlation with price."
   ]
  },
  {
   "cell_type": "markdown",
   "id": "0d7cf16f",
   "metadata": {},
   "source": [
    "# Exploratory Data Analysis Summary <a class=\"anchor\" id=\"exploratory-data-analysis-summary\"></a>\n",
    "The dataset is pretty big. Nevertheless there aren't significant issues with the dataset like wrong encoding of different features. I've decided to not remove any outliers because it doesn't seem to have any impact on prediction model like the cars produced in 1996. "
   ]
  },
  {
   "cell_type": "markdown",
   "id": "e2550083",
   "metadata": {},
   "source": [
    "__List of significant variables after visual analysis:__\n",
    "\n",
    "- year of production (new categorical type)\n",
    "- type of transmission\n",
    "- type of fuel\n",
    "- mileage"
   ]
  },
  {
   "cell_type": "code",
   "execution_count": 11,
   "id": "35c47cfb",
   "metadata": {},
   "outputs": [
    {
     "data": {
      "text/html": [
       "<table>\n",
       "<thead><tr><th scope=col>cut_vehicle_year</th><th scope=col>transmission</th><th scope=col>fuelType</th><th scope=col>mileage</th><th scope=col>price</th></tr></thead>\n",
       "<tbody>\n",
       "\t<tr><td>2013-2017 (middle-aged)</td><td>Automatic              </td><td>Diesel                 </td><td>67068                  </td><td>11200                  </td></tr>\n",
       "\t<tr><td>2018-2020 (new)        </td><td>Automatic              </td><td>Petrol                 </td><td>14827                  </td><td>27000                  </td></tr>\n",
       "\t<tr><td>2013-2017 (middle-aged)</td><td>Automatic              </td><td>Diesel                 </td><td>62794                  </td><td>16000                  </td></tr>\n",
       "\t<tr><td>2013-2017 (middle-aged)</td><td>Automatic              </td><td>Diesel                 </td><td>26676                  </td><td>12750                  </td></tr>\n",
       "\t<tr><td>2013-2017 (middle-aged)</td><td>Automatic              </td><td>Diesel                 </td><td>39554                  </td><td>14500                  </td></tr>\n",
       "\t<tr><td>2013-2017 (middle-aged)</td><td>Automatic              </td><td>Diesel                 </td><td>35309                  </td><td>14900                  </td></tr>\n",
       "</tbody>\n",
       "</table>\n"
      ],
      "text/latex": [
       "\\begin{tabular}{r|lllll}\n",
       " cut\\_vehicle\\_year & transmission & fuelType & mileage & price\\\\\n",
       "\\hline\n",
       "\t 2013-2017 (middle-aged) & Automatic               & Diesel                  & 67068                   & 11200                  \\\\\n",
       "\t 2018-2020 (new)         & Automatic               & Petrol                  & 14827                   & 27000                  \\\\\n",
       "\t 2013-2017 (middle-aged) & Automatic               & Diesel                  & 62794                   & 16000                  \\\\\n",
       "\t 2013-2017 (middle-aged) & Automatic               & Diesel                  & 26676                   & 12750                  \\\\\n",
       "\t 2013-2017 (middle-aged) & Automatic               & Diesel                  & 39554                   & 14500                  \\\\\n",
       "\t 2013-2017 (middle-aged) & Automatic               & Diesel                  & 35309                   & 14900                  \\\\\n",
       "\\end{tabular}\n"
      ],
      "text/markdown": [
       "\n",
       "| cut_vehicle_year | transmission | fuelType | mileage | price |\n",
       "|---|---|---|---|---|\n",
       "| 2013-2017 (middle-aged) | Automatic               | Diesel                  | 67068                   | 11200                   |\n",
       "| 2018-2020 (new)         | Automatic               | Petrol                  | 14827                   | 27000                   |\n",
       "| 2013-2017 (middle-aged) | Automatic               | Diesel                  | 62794                   | 16000                   |\n",
       "| 2013-2017 (middle-aged) | Automatic               | Diesel                  | 26676                   | 12750                   |\n",
       "| 2013-2017 (middle-aged) | Automatic               | Diesel                  | 39554                   | 14500                   |\n",
       "| 2013-2017 (middle-aged) | Automatic               | Diesel                  | 35309                   | 14900                   |\n",
       "\n"
      ],
      "text/plain": [
       "  cut_vehicle_year        transmission fuelType mileage price\n",
       "1 2013-2017 (middle-aged) Automatic    Diesel   67068   11200\n",
       "2 2018-2020 (new)         Automatic    Petrol   14827   27000\n",
       "3 2013-2017 (middle-aged) Automatic    Diesel   62794   16000\n",
       "4 2013-2017 (middle-aged) Automatic    Diesel   26676   12750\n",
       "5 2013-2017 (middle-aged) Automatic    Diesel   39554   14500\n",
       "6 2013-2017 (middle-aged) Automatic    Diesel   35309   14900"
      ]
     },
     "metadata": {},
     "output_type": "display_data"
    }
   ],
   "source": [
    "model_data <- new_data[, c('cut_vehicle_year', 'transmission', 'fuelType', 'mileage', 'price')]\n",
    "head(model_data)"
   ]
  },
  {
   "cell_type": "markdown",
   "id": "a9d9e1d8",
   "metadata": {},
   "source": [
    "__Dummy variables__"
   ]
  },
  {
   "cell_type": "code",
   "execution_count": 13,
   "id": "a74a5140",
   "metadata": {},
   "outputs": [
    {
     "data": {
      "text/html": [
       "<table>\n",
       "<thead><tr><th scope=col>mileage</th><th scope=col>price</th><th scope=col>cut_vehicle_year_1996-2012 (old)</th><th scope=col>cut_vehicle_year_2013-2017 (middle-aged)</th><th scope=col>cut_vehicle_year_2018-2020 (new)</th><th scope=col>transmission_Automatic</th><th scope=col>transmission_Manual</th><th scope=col>transmission_Semi-Auto</th><th scope=col>fuelType_Diesel</th><th scope=col>fuelType_Electric</th><th scope=col>fuelType_Hybrid</th><th scope=col>fuelType_Other</th><th scope=col>fuelType_Petrol</th></tr></thead>\n",
       "<tbody>\n",
       "\t<tr><td>67068</td><td>11200</td><td>0    </td><td>1    </td><td>0    </td><td>1    </td><td>0    </td><td>0    </td><td>1    </td><td>0    </td><td>0    </td><td>0    </td><td>0    </td></tr>\n",
       "\t<tr><td>14827</td><td>27000</td><td>0    </td><td>0    </td><td>1    </td><td>1    </td><td>0    </td><td>0    </td><td>0    </td><td>0    </td><td>0    </td><td>0    </td><td>1    </td></tr>\n",
       "\t<tr><td>62794</td><td>16000</td><td>0    </td><td>1    </td><td>0    </td><td>1    </td><td>0    </td><td>0    </td><td>1    </td><td>0    </td><td>0    </td><td>0    </td><td>0    </td></tr>\n",
       "\t<tr><td>26676</td><td>12750</td><td>0    </td><td>1    </td><td>0    </td><td>1    </td><td>0    </td><td>0    </td><td>1    </td><td>0    </td><td>0    </td><td>0    </td><td>0    </td></tr>\n",
       "\t<tr><td>39554</td><td>14500</td><td>0    </td><td>1    </td><td>0    </td><td>1    </td><td>0    </td><td>0    </td><td>1    </td><td>0    </td><td>0    </td><td>0    </td><td>0    </td></tr>\n",
       "\t<tr><td>35309</td><td>14900</td><td>0    </td><td>1    </td><td>0    </td><td>1    </td><td>0    </td><td>0    </td><td>1    </td><td>0    </td><td>0    </td><td>0    </td><td>0    </td></tr>\n",
       "</tbody>\n",
       "</table>\n"
      ],
      "text/latex": [
       "\\begin{tabular}{r|lllllllllllll}\n",
       " mileage & price & cut\\_vehicle\\_year\\_1996-2012 (old) & cut\\_vehicle\\_year\\_2013-2017 (middle-aged) & cut\\_vehicle\\_year\\_2018-2020 (new) & transmission\\_Automatic & transmission\\_Manual & transmission\\_Semi-Auto & fuelType\\_Diesel & fuelType\\_Electric & fuelType\\_Hybrid & fuelType\\_Other & fuelType\\_Petrol\\\\\n",
       "\\hline\n",
       "\t 67068 & 11200 & 0     & 1     & 0     & 1     & 0     & 0     & 1     & 0     & 0     & 0     & 0    \\\\\n",
       "\t 14827 & 27000 & 0     & 0     & 1     & 1     & 0     & 0     & 0     & 0     & 0     & 0     & 1    \\\\\n",
       "\t 62794 & 16000 & 0     & 1     & 0     & 1     & 0     & 0     & 1     & 0     & 0     & 0     & 0    \\\\\n",
       "\t 26676 & 12750 & 0     & 1     & 0     & 1     & 0     & 0     & 1     & 0     & 0     & 0     & 0    \\\\\n",
       "\t 39554 & 14500 & 0     & 1     & 0     & 1     & 0     & 0     & 1     & 0     & 0     & 0     & 0    \\\\\n",
       "\t 35309 & 14900 & 0     & 1     & 0     & 1     & 0     & 0     & 1     & 0     & 0     & 0     & 0    \\\\\n",
       "\\end{tabular}\n"
      ],
      "text/markdown": [
       "\n",
       "| mileage | price | cut_vehicle_year_1996-2012 (old) | cut_vehicle_year_2013-2017 (middle-aged) | cut_vehicle_year_2018-2020 (new) | transmission_Automatic | transmission_Manual | transmission_Semi-Auto | fuelType_Diesel | fuelType_Electric | fuelType_Hybrid | fuelType_Other | fuelType_Petrol |\n",
       "|---|---|---|---|---|---|---|---|---|---|---|---|---|\n",
       "| 67068 | 11200 | 0     | 1     | 0     | 1     | 0     | 0     | 1     | 0     | 0     | 0     | 0     |\n",
       "| 14827 | 27000 | 0     | 0     | 1     | 1     | 0     | 0     | 0     | 0     | 0     | 0     | 1     |\n",
       "| 62794 | 16000 | 0     | 1     | 0     | 1     | 0     | 0     | 1     | 0     | 0     | 0     | 0     |\n",
       "| 26676 | 12750 | 0     | 1     | 0     | 1     | 0     | 0     | 1     | 0     | 0     | 0     | 0     |\n",
       "| 39554 | 14500 | 0     | 1     | 0     | 1     | 0     | 0     | 1     | 0     | 0     | 0     | 0     |\n",
       "| 35309 | 14900 | 0     | 1     | 0     | 1     | 0     | 0     | 1     | 0     | 0     | 0     | 0     |\n",
       "\n"
      ],
      "text/plain": [
       "  mileage price cut_vehicle_year_1996-2012 (old)\n",
       "1 67068   11200 0                               \n",
       "2 14827   27000 0                               \n",
       "3 62794   16000 0                               \n",
       "4 26676   12750 0                               \n",
       "5 39554   14500 0                               \n",
       "6 35309   14900 0                               \n",
       "  cut_vehicle_year_2013-2017 (middle-aged) cut_vehicle_year_2018-2020 (new)\n",
       "1 1                                        0                               \n",
       "2 0                                        1                               \n",
       "3 1                                        0                               \n",
       "4 1                                        0                               \n",
       "5 1                                        0                               \n",
       "6 1                                        0                               \n",
       "  transmission_Automatic transmission_Manual transmission_Semi-Auto\n",
       "1 1                      0                   0                     \n",
       "2 1                      0                   0                     \n",
       "3 1                      0                   0                     \n",
       "4 1                      0                   0                     \n",
       "5 1                      0                   0                     \n",
       "6 1                      0                   0                     \n",
       "  fuelType_Diesel fuelType_Electric fuelType_Hybrid fuelType_Other\n",
       "1 1               0                 0               0             \n",
       "2 0               0                 0               0             \n",
       "3 1               0                 0               0             \n",
       "4 1               0                 0               0             \n",
       "5 1               0                 0               0             \n",
       "6 1               0                 0               0             \n",
       "  fuelType_Petrol\n",
       "1 0              \n",
       "2 1              \n",
       "3 0              \n",
       "4 0              \n",
       "5 0              \n",
       "6 0              "
      ]
     },
     "metadata": {},
     "output_type": "display_data"
    },
    {
     "data": {
      "text/html": [
       "<ol class=list-inline>\n",
       "\t<li>10781</li>\n",
       "\t<li>13</li>\n",
       "</ol>\n"
      ],
      "text/latex": [
       "\\begin{enumerate*}\n",
       "\\item 10781\n",
       "\\item 13\n",
       "\\end{enumerate*}\n"
      ],
      "text/markdown": [
       "1. 10781\n",
       "2. 13\n",
       "\n",
       "\n"
      ],
      "text/plain": [
       "[1] 10781    13"
      ]
     },
     "metadata": {},
     "output_type": "display_data"
    }
   ],
   "source": [
    "library(fastDummies)\n",
    "library(caret)\n",
    "model_data_new <- dummy_cols(model_data, select_columns = c('cut_vehicle_year', 'transmission', 'fuelType'),\n",
    "           remove_selected_columns = TRUE)\n",
    "head(model_data_new)\n",
    "dim(model_data_new)"
   ]
  },
  {
   "cell_type": "code",
   "execution_count": 29,
   "id": "afb41428",
   "metadata": {
    "scrolled": false
   },
   "outputs": [],
   "source": [
    "smp_size <- floor(0.75 * nrow(model_data_new))\n",
    "set.seed(123)\n",
    "train_ind <- sample(seq_len(nrow(model_data_new)), size=smp_size)\n",
    "\n",
    "train <- model_data_new[train_ind, ]\n",
    "test <- model_data_new[-train_ind, ]\n",
    "#head(train)\n",
    "normalize <- function(x, na.rm = TRUE) {\n",
    "    return((x- min(x)) /(max(x)-min(x)))\n",
    "}\n",
    "train$mileage <- normalize(train$mileage)\n",
    "train$price <- normalize(train$price)\n",
    "#head(train)\n",
    "colnames(train[3:5]) <- c('2018_2020', '2013_2017', '1996_2012')\n",
    "#describe(train)"
   ]
  },
  {
   "cell_type": "code",
   "execution_count": 20,
   "id": "23e197ab",
   "metadata": {},
   "outputs": [
    {
     "data": {
      "image/png": "[encoded data removed]",
      "text/plain": [
       "plot without title"
      ]
     },
     "metadata": {},
     "output_type": "display_data"
    }
   ],
   "source": [
    "cormat<-signif(cor(train),2)\n",
    "heatmap(cormat, symm=TRUE)"
   ]
  },
  {
   "cell_type": "markdown",
   "id": "4cffc8b7",
   "metadata": {},
   "source": [
    "Highly correlated variables to price are:\n",
    "\n",
    "- year_2018-2020 (new)\n",
    "- transmission_semi_auto\n",
    "- fuelType_Hybrid"
   ]
  },
  {
   "cell_type": "markdown",
   "id": "bd35a6aa",
   "metadata": {},
   "source": [
    "# Model development <a class=\"anchor\" id=\"model-development\"></a>"
   ]
  },
  {
   "cell_type": "code",
   "execution_count": 30,
   "id": "c8c85325",
   "metadata": {},
   "outputs": [
    {
     "data": {
      "text/plain": [
       "\n",
       "Call:\n",
       "lm(formula = price ~ ., data = train)\n",
       "\n",
       "Residuals:\n",
       "     Min       1Q   Median       3Q      Max \n",
       "-0.16130 -0.03597 -0.01070  0.01664  0.84764 \n",
       "\n",
       "Coefficients: (3 not defined because of singularities)\n",
       "                                            Estimate Std. Error t value\n",
       "(Intercept)                                 0.249606   0.001555 160.477\n",
       "mileage                                    -0.214083   0.008582 -24.944\n",
       "`cut_vehicle_year_1996-2012 (old)`         -0.081158   0.005419 -14.976\n",
       "`cut_vehicle_year_2013-2017 (middle-aged)` -0.066984   0.002106 -31.812\n",
       "`cut_vehicle_year_2018-2020 (new)`                NA         NA      NA\n",
       "transmission_Automatic                     -0.003698   0.001781  -2.076\n",
       "transmission_Manual                        -0.055448   0.002017 -27.485\n",
       "`transmission_Semi-Auto`                          NA         NA      NA\n",
       "fuelType_Diesel                             0.007391   0.001658   4.457\n",
       "fuelType_Electric                          -0.015246   0.038215  -0.399\n",
       "fuelType_Hybrid                             0.023429   0.004723   4.961\n",
       "fuelType_Other                              0.011107   0.012874   0.863\n",
       "fuelType_Petrol                                   NA         NA      NA\n",
       "                                           Pr(>|t|)    \n",
       "(Intercept)                                 < 2e-16 ***\n",
       "mileage                                     < 2e-16 ***\n",
       "`cut_vehicle_year_1996-2012 (old)`          < 2e-16 ***\n",
       "`cut_vehicle_year_2013-2017 (middle-aged)`  < 2e-16 ***\n",
       "`cut_vehicle_year_2018-2020 (new)`               NA    \n",
       "transmission_Automatic                        0.038 *  \n",
       "transmission_Manual                         < 2e-16 ***\n",
       "`transmission_Semi-Auto`                         NA    \n",
       "fuelType_Diesel                            8.41e-06 ***\n",
       "fuelType_Electric                             0.690    \n",
       "fuelType_Hybrid                            7.16e-07 ***\n",
       "fuelType_Other                                0.388    \n",
       "fuelType_Petrol                                  NA    \n",
       "---\n",
       "Signif. codes:  0 '***' 0.001 '**' 0.01 '*' 0.05 '.' 0.1 ' ' 1\n",
       "\n",
       "Residual standard error: 0.06609 on 8075 degrees of freedom\n",
       "Multiple R-squared:  0.5056,\tAdjusted R-squared:  0.5051 \n",
       "F-statistic: 917.6 on 9 and 8075 DF,  p-value: < 2.2e-16\n"
      ]
     },
     "metadata": {},
     "output_type": "display_data"
    }
   ],
   "source": [
    "#Training model\n",
    "\n",
    "lmModel <- lm(price ~ ., data = train)\n",
    "# Printing the model object\n",
    "summary(lmModel)"
   ]
  },
  {
   "cell_type": "markdown",
   "id": "e5809445",
   "metadata": {},
   "source": [
    "As we can see in this first model, there are a few missing values of coefficients. It means that there occur large __variance inflation factors__ in 3 groups of independent values: year of a vehicle, type of transmission and type of fuel. I can reject the variables which aren't significant based on T-test value:\n",
    "\n",
    "- fuelType_Electric\n",
    "- fuelType_Other\n",
    "- transmission_Automatic (p-value lower than 0.05 but less significant that the other two variables in the same group of categorical data)"
   ]
  },
  {
   "cell_type": "code",
   "execution_count": 31,
   "id": "8bf0a0ed",
   "metadata": {},
   "outputs": [
    {
     "data": {
      "text/plain": [
       "\n",
       "Call:\n",
       "lm(formula = price ~ `cut_vehicle_year_1996-2012 (old)` + `cut_vehicle_year_2018-2020 (new)` + \n",
       "    transmission_Manual + `transmission_Semi-Auto` + fuelType_Hybrid + \n",
       "    fuelType_Petrol + mileage, data = train)\n",
       "\n",
       "Residuals:\n",
       "     Min       1Q   Median       3Q      Max \n",
       "-0.16129 -0.03593 -0.01074  0.01663  0.84764 \n",
       "\n",
       "Coefficients:\n",
       "                                    Estimate Std. Error t value Pr(>|t|)    \n",
       "(Intercept)                         0.186294   0.002433  76.580  < 2e-16 ***\n",
       "`cut_vehicle_year_1996-2012 (old)` -0.014215   0.004685  -3.034 0.002418 ** \n",
       "`cut_vehicle_year_2018-2020 (new)`  0.067005   0.002104  31.846  < 2e-16 ***\n",
       "transmission_Manual                -0.051763   0.002021 -25.606  < 2e-16 ***\n",
       "`transmission_Semi-Auto`            0.003691   0.001777   2.077 0.037846 *  \n",
       "fuelType_Hybrid                     0.016032   0.004602   3.484 0.000497 ***\n",
       "fuelType_Petrol                    -0.007390   0.001657  -4.459 8.36e-06 ***\n",
       "mileage                            -0.213924   0.008578 -24.938  < 2e-16 ***\n",
       "---\n",
       "Signif. codes:  0 '***' 0.001 '**' 0.01 '*' 0.05 '.' 0.1 ' ' 1\n",
       "\n",
       "Residual standard error: 0.06608 on 8077 degrees of freedom\n",
       "Multiple R-squared:  0.5056,\tAdjusted R-squared:  0.5052 \n",
       "F-statistic:  1180 on 7 and 8077 DF,  p-value: < 2.2e-16\n"
      ]
     },
     "metadata": {},
     "output_type": "display_data"
    }
   ],
   "source": [
    "lmModel <- lm(price ~ `cut_vehicle_year_1996-2012 (old)` + `cut_vehicle_year_2018-2020 (new)` + transmission_Manual +\n",
    "              `transmission_Semi-Auto` + fuelType_Hybrid + fuelType_Petrol + mileage, data = train)\n",
    "# Printing the model object\n",
    "summary(lmModel)"
   ]
  },
  {
   "cell_type": "markdown",
   "id": "10b3d625",
   "metadata": {},
   "source": [
    "Now there is the problem with pretty high p-value for semi-auto type of transmission so I will try to remove the variable in a new, __final model__."
   ]
  },
  {
   "cell_type": "code",
   "execution_count": 32,
   "id": "87c24e11",
   "metadata": {},
   "outputs": [
    {
     "data": {
      "text/plain": [
       "\n",
       "Call:\n",
       "lm(formula = price ~ `cut_vehicle_year_1996-2012 (old)` + `cut_vehicle_year_2018-2020 (new)` + \n",
       "    transmission_Manual + fuelType_Hybrid + fuelType_Petrol + \n",
       "    mileage, data = train)\n",
       "\n",
       "Residuals:\n",
       "     Min       1Q   Median       3Q      Max \n",
       "-0.16022 -0.03638 -0.01080  0.01681  0.84956 \n",
       "\n",
       "Coefficients:\n",
       "                                    Estimate Std. Error t value Pr(>|t|)    \n",
       "(Intercept)                         0.188494   0.002191  86.050  < 2e-16 ***\n",
       "`cut_vehicle_year_1996-2012 (old)` -0.014468   0.004684  -3.089 0.002017 ** \n",
       "`cut_vehicle_year_2018-2020 (new)`  0.067369   0.002097  32.124  < 2e-16 ***\n",
       "transmission_Manual                -0.053619   0.001814 -29.565  < 2e-16 ***\n",
       "fuelType_Hybrid                     0.015233   0.004587   3.321 0.000901 ***\n",
       "fuelType_Petrol                    -0.007335   0.001658  -4.425 9.76e-06 ***\n",
       "mileage                            -0.216338   0.008501 -25.449  < 2e-16 ***\n",
       "---\n",
       "Signif. codes:  0 '***' 0.001 '**' 0.01 '*' 0.05 '.' 0.1 ' ' 1\n",
       "\n",
       "Residual standard error: 0.06609 on 8078 degrees of freedom\n",
       "Multiple R-squared:  0.5053,\tAdjusted R-squared:  0.505 \n",
       "F-statistic:  1375 on 6 and 8078 DF,  p-value: < 2.2e-16\n"
      ]
     },
     "metadata": {},
     "output_type": "display_data"
    }
   ],
   "source": [
    "lmModel <- lm(price ~ `cut_vehicle_year_1996-2012 (old)` + `cut_vehicle_year_2018-2020 (new)` + transmission_Manual\n",
    "              + fuelType_Hybrid + fuelType_Petrol + mileage, data = train)\n",
    "# Printing the model object\n",
    "summary(lmModel)"
   ]
  },
  {
   "cell_type": "markdown",
   "id": "e1162ad2",
   "metadata": {},
   "source": [
    "__Residual analysis of model:__"
   ]
  },
  {
   "cell_type": "code",
   "execution_count": 28,
   "id": "5f346b49",
   "metadata": {},
   "outputs": [
    {
     "data": {
      "image/png": "[encoded data removed]",
      "text/plain": [
       "plot without title"
      ]
     },
     "metadata": {},
     "output_type": "display_data"
    }
   ],
   "source": [
    "ggplot(data = train, aes(x = lmModel$residuals)) +\n",
    "    geom_histogram(fill = 'steelblue', color = 'black', bins = 20) +\n",
    "    labs(title = 'Histogram of Residuals', x = 'Residuals', y = 'Frequency')"
   ]
  },
  {
   "cell_type": "markdown",
   "id": "ceadc8ff",
   "metadata": {},
   "source": [
    "Error terms seem to be approximately normally distributed, so the assumption on the linear modelling seems to be fulfilled."
   ]
  },
  {
   "cell_type": "markdown",
   "id": "22f20403",
   "metadata": {},
   "source": [
    "__Prediction and evaluation:__"
   ]
  },
  {
   "cell_type": "code",
   "execution_count": 30,
   "id": "fb56f7da",
   "metadata": {},
   "outputs": [],
   "source": [
    "test$mileage <- normalize(test$mileage)\n",
    "test$price <- normalize(test$price)\n",
    "y_test <- test$price\n",
    "x_test <- test[c(1,3:13)]"
   ]
  },
  {
   "cell_type": "code",
   "execution_count": 37,
   "id": "fce0bd79",
   "metadata": {},
   "outputs": [
    {
     "data": {
      "image/png": "[encoded data removed]",
      "text/plain": [
       "plot without title"
      ]
     },
     "metadata": {},
     "output_type": "display_data"
    }
   ],
   "source": [
    "test$predictions <- predict(lmModel, x_test)\n",
    "prediction <- predict(lmModel, x_test, interval=\"prediction\")\n",
    "p <- ggplot(test, aes(predictions, price)) +\n",
    "  geom_point() +\n",
    "  stat_smooth(method = lm)\n",
    "p + geom_line(aes(y = as.data.frame(prediction)$lwr), color = \"red\", linetype = \"dashed\")+\n",
    "    geom_line(aes(y = as.data.frame(prediction)$upr), color = \"red\", linetype = \"dashed\")"
   ]
  },
  {
   "cell_type": "markdown",
   "id": "92a69b3f",
   "metadata": {},
   "source": [
    "__Inference:__\n",
    "\n",
    "1. R-sqaured and Adjusted R-squared - 0.5053 and 0.505 - 50,5% variance explained.\n",
    "2. F-stats and Prob(F-stats) - 1375 and 2.2e-16 - Model is significant and explained 50% variance is just not by chance.\n",
    "3. P-values of T-test for all the coefficients seem to be less than the significance level of 0.05 - meaning that all the predictors are statistically significant.\n",
    "4. The multicollinearity in the model variables doesn't occur."
   ]
  },
  {
   "cell_type": "markdown",
   "id": "5137fe2a",
   "metadata": {},
   "source": [
    "# Conclusion and recommendations <a class=\"anchor\" id=\"conclusion-and-recommendations\"></a>\n",
    "The project aimed to investigate the price of used BMW cars on Polish market in a certain used car dealership which sells the vehicles. The results from the model can then be used to help identify a price of potential new BMW car in the company which will be the most attractive for customers and suppliers."
   ]
  },
  {
   "cell_type": "markdown",
   "id": "54a923b5",
   "metadata": {},
   "source": [
    "The built model fits the low and average valuable cars the most. As it can be seen on the last graph, the car priced to the point of 30% of price for the most valuable car in the dataset are fitted well in the regression model. It will be good probably for the most of used BMW cars available on the Polish market."
   ]
  },
  {
   "cell_type": "markdown",
   "id": "21541043",
   "metadata": {},
   "source": [
    "However, the model isn't perfect. For most of highly-priced cars occurs the huge difference between prediction and price. It is caused probably by lack of some information about luxury cars in the model."
   ]
  },
  {
   "cell_type": "markdown",
   "id": "f2f3ee65",
   "metadata": {},
   "source": [
    "The important features available in the given dataset which have an impact on the price of a car, except any other features outside the dataset are in general:\n",
    "\n",
    "- year of production\n",
    "- type of transmission\n",
    "- type of fuel\n",
    "- mileage."
   ]
  },
  {
   "cell_type": "markdown",
   "id": "bc6f57a1",
   "metadata": {},
   "source": [
    "The model explains over 50% of variance, that means that half of the data could fit the regression model. The model should be quite good for predicting values of low and average costs of certain cars. Unfortunately, for the most valuable, luxury cars for example could be dangerous - the fact that a car comes from luxury class should be take into account like any other features outside the tested dataset (for example the fact of front-end damage). The information given in the dataset may not be enough and it's important to keep in mind all the significant info about the vehicle put up for sale."
   ]
  },
  {
   "cell_type": "markdown",
   "id": "be3e9037",
   "metadata": {},
   "source": [
    "# References\n",
    "- https://www.r-graph-gallery.com/218-basic-barplots-with-ggplot2.html\n",
    "- http://www.sthda.com/english/articles/40-regression-analysis/166-predict-in-r-model-predictions-and-confidence-intervals/"
   ]
  }
 ],
 "metadata": {
  "kernelspec": {
   "display_name": "R",
   "language": "R",
   "name": "ir"
  },
  "language_info": {
   "codemirror_mode": "r",
   "file_extension": ".r",
   "mimetype": "text/x-r-source",
   "name": "R",
   "pygments_lexer": "r",
   "version": "3.6.1"
  }
 },
 "nbformat": 4,
 "nbformat_minor": 5
}
